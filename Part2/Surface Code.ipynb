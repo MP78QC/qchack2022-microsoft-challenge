{
 "cells": [
  {
   "cell_type": "markdown",
   "id": "f3ca15f2",
   "metadata": {},
   "source": [
    "# Introduction"
   ]
  },
  {
   "cell_type": "markdown",
   "id": "ca9dd542",
   "metadata": {},
   "source": [
    "This work is greatly inspired by the article [Entangling logical qubits with lattice surgery](https://www.nature.com/articles/s41586-020-03079-6), preprint available [here](https://arxiv.org/abs/2006.03071) by A.Erhard, H.P.Nautrup, M.Meth, L.Postler, R.Stricker, M.Ringbauer, P.Schindler, H.J.Briegel, R.Blatt, N.Friis and T.Monz.\n",
    "While I don't have a link with this group, I was amazed that it was already possible to implement logical qubits with current quantum computers. \n",
    "\n",
    "This notebook aims to reproduce some results of this great work to gain better understanding. It consists of presenting the single logical qubit encoding, explaining the interest with regards to error detection and correction, and finally two-qubits operation for capability demonstrations.\n",
    "\n",
    "It is recommanded to not \"Run all\" cells, as the azure jobs would be relaunched, and results overwritten and will take a long time to recompute. Otherwise, cells defining operation that are simulated locally can be modified and re-executed of course."
   ]
  },
  {
   "cell_type": "markdown",
   "id": "cd8fef8e",
   "metadata": {},
   "source": [
    "# Azure connection"
   ]
  },
  {
   "cell_type": "code",
   "execution_count": 1,
   "id": "cb8afe75",
   "metadata": {},
   "outputs": [
    {
     "name": "stdout",
     "output_type": "stream",
     "text": [
      "Connected to Azure Quantum workspace qchack-2022-b in location eastus.\r\n"
     ]
    }
   ],
   "source": [
    "import qsharp.azure\n",
    "targets = qsharp.azure.connect(\n",
    "   resourceId=\"/subscriptions/b0c3bbe3-7123-4ba4-9aa2-57d9845f4a1d/resourceGroups/AzureQuantum/providers/Microsoft.Quantum/Workspaces/qchack-2022-b\",\n",
    "   location=\"eastus\")"
   ]
  },
  {
   "cell_type": "code",
   "execution_count": 34,
   "id": "fcd6b859",
   "metadata": {},
   "outputs": [
    {
     "name": "stdout",
     "output_type": "stream",
     "text": [
      "This workspace's targets:\n",
      "- ionq.qpu\n",
      "- ionq.simulator\n",
      "- quantinuum.hqs-lt-s1\n",
      "- quantinuum.hqs-lt-s1-apival\n",
      "- quantinuum.hqs-lt-s2\n",
      "- quantinuum.hqs-lt-s2-apival\n",
      "- quantinuum.hqs-lt-s1-sim\n",
      "- quantinuum.hqs-lt-s2-sim\n",
      "- quantinuum.hqs-lt\n"
     ]
    }
   ],
   "source": [
    "import qsharp\n",
    "\n",
    "print(\"This workspace's targets:\")\n",
    "for target in targets:\n",
    "    print(\"-\", target.id)"
   ]
  },
  {
   "cell_type": "markdown",
   "id": "e41f9ae4",
   "metadata": {},
   "source": [
    "# State preparation and manipulation"
   ]
  },
  {
   "cell_type": "markdown",
   "id": "7fd4b889",
   "metadata": {},
   "source": [
    "## Enconding the state"
   ]
  },
  {
   "cell_type": "markdown",
   "id": "f2e300c3",
   "metadata": {},
   "source": [
    "We will encode our logical qubit into a matrix of 2X2 qubits: this code is part of the surface code family. Thanks to the full connectivity of the ion-trap processors, we have no restrictions on which physical qubits can be directly coupled, we will implement this surface code while keeping in mind that the qubits are not really bound to such lattice.\n",
    "The logical states will be : \n",
    "$|0_L\\rangle=(|0101\\rangle+|1010\\rangle)/\\sqrt{2}$\n",
    "and\n",
    "$|1_L\\rangle=(|1001\\rangle+|0110\\rangle)/\\sqrt{2}$\n",
    "\n",
    "Let's write operations to prepare these two states:"
   ]
  },
  {
   "cell_type": "code",
   "execution_count": 35,
   "id": "a554b3b2",
   "metadata": {},
   "outputs": [],
   "source": [
    "%%qsharp\n",
    "open Microsoft.Quantum.Diagnostics;\n",
    "open Microsoft.Quantum.Math;\n",
    "\n",
    "operation PrepareZero_L (qs : Qubit[]) : Unit is Adj+Ctl {\n",
    "    //Only MS gates? I'll use CNOT for now\n",
    "    H(qs[0]);\n",
    "    CNOT(qs[0], qs[2]);\n",
    "    X(qs[0]);\n",
    "    CNOT(qs[0], qs[1]);\n",
    "    CNOT(qs[0], qs[3]);\n",
    "    X(qs[0]);\n",
    "}\n",
    "\n",
    "operation PrepareOne_L (qs : Qubit[]) : Unit is Adj+Ctl {\n",
    "    H(qs[0]);\n",
    "    CNOT(qs[0], qs[3]);\n",
    "    X(qs[0]);\n",
    "    CNOT(qs[0], qs[1]);\n",
    "    CNOT(qs[0], qs[2]);\n",
    "    X(qs[0]);\n",
    "}"
   ]
  },
  {
   "cell_type": "markdown",
   "id": "0e308b71",
   "metadata": {},
   "source": [
    "We will now use visualization tools of Q# to check our generated states"
   ]
  },
  {
   "cell_type": "code",
   "execution_count": 36,
   "id": "3b1fe94b",
   "metadata": {},
   "outputs": [],
   "source": [
    "%%qsharp\n",
    "\n",
    "operation ZeroTest() : Unit {\n",
    "    use qs = Qubit[4];\n",
    "    PrepareZero_L(qs);\n",
    "    DumpMachine();\n",
    "    ResetAll(qs);\n",
    "}\n",
    "\n",
    "operation OneTest() : Unit {\n",
    "    use qs = Qubit[4];\n",
    "    PrepareOne_L(qs);\n",
    "    DumpMachine();\n",
    "    ResetAll(qs);\n",
    "}"
   ]
  },
  {
   "cell_type": "code",
   "execution_count": 37,
   "id": "d528ccc6",
   "metadata": {},
   "outputs": [
    {
     "data": {
      "application/x-qsharp-data": "{\"diagnostic_kind\":\"state-vector\",\"qubit_ids\":[0,1,2,3],\"n_qubits\":4,\"amplitudes\":{\"0\":{\"Real\":0.0,\"Imaginary\":0.0,\"Magnitude\":0.0,\"Phase\":0.0},\"1\":{\"Real\":0.0,\"Imaginary\":0.0,\"Magnitude\":0.0,\"Phase\":0.0},\"2\":{\"Real\":0.0,\"Imaginary\":0.0,\"Magnitude\":0.0,\"Phase\":0.0},\"3\":{\"Real\":0.0,\"Imaginary\":0.0,\"Magnitude\":0.0,\"Phase\":0.0},\"4\":{\"Real\":0.0,\"Imaginary\":0.0,\"Magnitude\":0.0,\"Phase\":0.0},\"5\":{\"Real\":0.7071067811865476,\"Imaginary\":0.0,\"Magnitude\":0.7071067811865476,\"Phase\":0.0},\"6\":{\"Real\":0.0,\"Imaginary\":0.0,\"Magnitude\":0.0,\"Phase\":0.0},\"7\":{\"Real\":0.0,\"Imaginary\":0.0,\"Magnitude\":0.0,\"Phase\":0.0},\"8\":{\"Real\":0.0,\"Imaginary\":0.0,\"Magnitude\":0.0,\"Phase\":0.0},\"9\":{\"Real\":0.0,\"Imaginary\":0.0,\"Magnitude\":0.0,\"Phase\":0.0},\"10\":{\"Real\":0.7071067811865476,\"Imaginary\":0.0,\"Magnitude\":0.7071067811865476,\"Phase\":0.0},\"11\":{\"Real\":0.0,\"Imaginary\":0.0,\"Magnitude\":0.0,\"Phase\":0.0},\"12\":{\"Real\":0.0,\"Imaginary\":0.0,\"Magnitude\":0.0,\"Phase\":0.0},\"13\":{\"Real\":0.0,\"Imaginary\":0.0,\"Magnitude\":0.0,\"Phase\":0.0},\"14\":{\"Real\":0.0,\"Imaginary\":0.0,\"Magnitude\":0.0,\"Phase\":0.0},\"15\":{\"Real\":0.0,\"Imaginary\":0.0,\"Magnitude\":0.0,\"Phase\":0.0}}}",
      "text/html": [
       "\r\n",
       "                    <table style=\"table-layout: fixed; width: 100%\">\r\n",
       "                        <thead>\r\n",
       "                            \r\n",
       "                        <tr>\r\n",
       "                            <th>Qubit IDs</th>\r\n",
       "                            <td span=\"3\">0, 1, 2, 3</td>\r\n",
       "                        </tr>\r\n",
       "                    \r\n",
       "                            <tr>\r\n",
       "                                <th style=\"width: 20ch)\">Basis state (bitstring)</th>\r\n",
       "                                <th style=\"width: 20ch\">Amplitude</th><th style=\"width: calc(100% - 26ch - 20ch)\">Meas. Pr.</th><th style=\"width: 6ch\">Phase</th>\r\n",
       "                            </tr>\r\n",
       "                        </thead>\r\n",
       "                        <tbody>\r\n",
       "                        \r\n",
       "                            <tr>\r\n",
       "                                <td>$\\left|0101\\right\\rangle$</td>\r\n",
       "                                <td>$0.7071 + 0.0000 i$</td>\r\n",
       "                                \r\n",
       "                                <td>\r\n",
       "                                    <progress\r\n",
       "                                        max=\"100\"\r\n",
       "                                        value=\"50.000000000000014\"\r\n",
       "                                        style=\"width: 100%;\"\r\n",
       "                                    > \r\n",
       "                                    <td>\r\n",
       "                                    <p id=\"round-20d368ef-7f2c-4304-917d-392517d2f3cc\"> \r\n",
       "                                    <script>\r\n",
       "                                    var num = 50.000000000000014;\r\n",
       "                                    num = num.toFixed(4);\r\n",
       "                                    var num_string = num + \"%\";\r\n",
       "                                     document.getElementById(\"round-20d368ef-7f2c-4304-917d-392517d2f3cc\").innerHTML = num_string;\r\n",
       "                                    </script> </p>\r\n",
       "                                    </td>\r\n",
       "                                </td>\r\n",
       "                            \r\n",
       "                                \r\n",
       "                                <td style=\"transform: rotate(0deg);\r\n",
       "                   text-align: center;\">\r\n",
       "                                 ↑\r\n",
       "                                </td>\r\n",
       "                            \r\n",
       "                            </tr>\r\n",
       "                        \n",
       "\r\n",
       "                            <tr>\r\n",
       "                                <td>$\\left|1010\\right\\rangle$</td>\r\n",
       "                                <td>$0.7071 + 0.0000 i$</td>\r\n",
       "                                \r\n",
       "                                <td>\r\n",
       "                                    <progress\r\n",
       "                                        max=\"100\"\r\n",
       "                                        value=\"50.000000000000014\"\r\n",
       "                                        style=\"width: 100%;\"\r\n",
       "                                    > \r\n",
       "                                    <td>\r\n",
       "                                    <p id=\"round-4c114513-d2c1-49a7-be18-2a7d43475a4a\"> \r\n",
       "                                    <script>\r\n",
       "                                    var num = 50.000000000000014;\r\n",
       "                                    num = num.toFixed(4);\r\n",
       "                                    var num_string = num + \"%\";\r\n",
       "                                     document.getElementById(\"round-4c114513-d2c1-49a7-be18-2a7d43475a4a\").innerHTML = num_string;\r\n",
       "                                    </script> </p>\r\n",
       "                                    </td>\r\n",
       "                                </td>\r\n",
       "                            \r\n",
       "                                \r\n",
       "                                <td style=\"transform: rotate(0deg);\r\n",
       "                   text-align: center;\">\r\n",
       "                                 ↑\r\n",
       "                                </td>\r\n",
       "                            \r\n",
       "                            </tr>\r\n",
       "                        \r\n",
       "                        </tbody>\r\n",
       "                    </table>"
      ],
      "text/plain": [
       "|0101⟩\t0,7071067811865476 + 0𝑖\n",
       "|1010⟩\t0,7071067811865476 + 0𝑖"
      ]
     },
     "metadata": {},
     "output_type": "display_data"
    },
    {
     "data": {
      "text/plain": [
       "()"
      ]
     },
     "execution_count": 37,
     "metadata": {},
     "output_type": "execute_result"
    }
   ],
   "source": [
    "config = qsharp.config\n",
    "config[\"dump.basisStateLabelingConvention\"] = \"Bitstring\"\n",
    "config[\"dump.truncateSmallAmplitudes\"] = True\n",
    "ZeroTest.simulate()"
   ]
  },
  {
   "cell_type": "code",
   "execution_count": 38,
   "id": "d6b5507d",
   "metadata": {},
   "outputs": [
    {
     "data": {
      "application/x-qsharp-data": "{\"diagnostic_kind\":\"state-vector\",\"qubit_ids\":[0,1,2,3],\"n_qubits\":4,\"amplitudes\":{\"0\":{\"Real\":0.0,\"Imaginary\":0.0,\"Magnitude\":0.0,\"Phase\":0.0},\"1\":{\"Real\":0.0,\"Imaginary\":0.0,\"Magnitude\":0.0,\"Phase\":0.0},\"2\":{\"Real\":0.0,\"Imaginary\":0.0,\"Magnitude\":0.0,\"Phase\":0.0},\"3\":{\"Real\":0.0,\"Imaginary\":0.0,\"Magnitude\":0.0,\"Phase\":0.0},\"4\":{\"Real\":0.0,\"Imaginary\":0.0,\"Magnitude\":0.0,\"Phase\":0.0},\"5\":{\"Real\":0.0,\"Imaginary\":0.0,\"Magnitude\":0.0,\"Phase\":0.0},\"6\":{\"Real\":0.7071067811865476,\"Imaginary\":0.0,\"Magnitude\":0.7071067811865476,\"Phase\":0.0},\"7\":{\"Real\":0.0,\"Imaginary\":0.0,\"Magnitude\":0.0,\"Phase\":0.0},\"8\":{\"Real\":0.0,\"Imaginary\":0.0,\"Magnitude\":0.0,\"Phase\":0.0},\"9\":{\"Real\":0.7071067811865476,\"Imaginary\":0.0,\"Magnitude\":0.7071067811865476,\"Phase\":0.0},\"10\":{\"Real\":0.0,\"Imaginary\":0.0,\"Magnitude\":0.0,\"Phase\":0.0},\"11\":{\"Real\":0.0,\"Imaginary\":0.0,\"Magnitude\":0.0,\"Phase\":0.0},\"12\":{\"Real\":0.0,\"Imaginary\":0.0,\"Magnitude\":0.0,\"Phase\":0.0},\"13\":{\"Real\":0.0,\"Imaginary\":0.0,\"Magnitude\":0.0,\"Phase\":0.0},\"14\":{\"Real\":0.0,\"Imaginary\":0.0,\"Magnitude\":0.0,\"Phase\":0.0},\"15\":{\"Real\":0.0,\"Imaginary\":0.0,\"Magnitude\":0.0,\"Phase\":0.0}}}",
      "text/html": [
       "\r\n",
       "                    <table style=\"table-layout: fixed; width: 100%\">\r\n",
       "                        <thead>\r\n",
       "                            \r\n",
       "                        <tr>\r\n",
       "                            <th>Qubit IDs</th>\r\n",
       "                            <td span=\"3\">0, 1, 2, 3</td>\r\n",
       "                        </tr>\r\n",
       "                    \r\n",
       "                            <tr>\r\n",
       "                                <th style=\"width: 20ch)\">Basis state (bitstring)</th>\r\n",
       "                                <th style=\"width: 20ch\">Amplitude</th><th style=\"width: calc(100% - 26ch - 20ch)\">Meas. Pr.</th><th style=\"width: 6ch\">Phase</th>\r\n",
       "                            </tr>\r\n",
       "                        </thead>\r\n",
       "                        <tbody>\r\n",
       "                        \r\n",
       "                            <tr>\r\n",
       "                                <td>$\\left|0110\\right\\rangle$</td>\r\n",
       "                                <td>$0.7071 + 0.0000 i$</td>\r\n",
       "                                \r\n",
       "                                <td>\r\n",
       "                                    <progress\r\n",
       "                                        max=\"100\"\r\n",
       "                                        value=\"50.000000000000014\"\r\n",
       "                                        style=\"width: 100%;\"\r\n",
       "                                    > \r\n",
       "                                    <td>\r\n",
       "                                    <p id=\"round-fbd34153-93b8-40fe-99d1-98ca71f7f10d\"> \r\n",
       "                                    <script>\r\n",
       "                                    var num = 50.000000000000014;\r\n",
       "                                    num = num.toFixed(4);\r\n",
       "                                    var num_string = num + \"%\";\r\n",
       "                                     document.getElementById(\"round-fbd34153-93b8-40fe-99d1-98ca71f7f10d\").innerHTML = num_string;\r\n",
       "                                    </script> </p>\r\n",
       "                                    </td>\r\n",
       "                                </td>\r\n",
       "                            \r\n",
       "                                \r\n",
       "                                <td style=\"transform: rotate(0deg);\r\n",
       "                   text-align: center;\">\r\n",
       "                                 ↑\r\n",
       "                                </td>\r\n",
       "                            \r\n",
       "                            </tr>\r\n",
       "                        \n",
       "\r\n",
       "                            <tr>\r\n",
       "                                <td>$\\left|1001\\right\\rangle$</td>\r\n",
       "                                <td>$0.7071 + 0.0000 i$</td>\r\n",
       "                                \r\n",
       "                                <td>\r\n",
       "                                    <progress\r\n",
       "                                        max=\"100\"\r\n",
       "                                        value=\"50.000000000000014\"\r\n",
       "                                        style=\"width: 100%;\"\r\n",
       "                                    > \r\n",
       "                                    <td>\r\n",
       "                                    <p id=\"round-e7fb589b-5ce1-4dac-b157-f4858983640a\"> \r\n",
       "                                    <script>\r\n",
       "                                    var num = 50.000000000000014;\r\n",
       "                                    num = num.toFixed(4);\r\n",
       "                                    var num_string = num + \"%\";\r\n",
       "                                     document.getElementById(\"round-e7fb589b-5ce1-4dac-b157-f4858983640a\").innerHTML = num_string;\r\n",
       "                                    </script> </p>\r\n",
       "                                    </td>\r\n",
       "                                </td>\r\n",
       "                            \r\n",
       "                                \r\n",
       "                                <td style=\"transform: rotate(0deg);\r\n",
       "                   text-align: center;\">\r\n",
       "                                 ↑\r\n",
       "                                </td>\r\n",
       "                            \r\n",
       "                            </tr>\r\n",
       "                        \r\n",
       "                        </tbody>\r\n",
       "                    </table>"
      ],
      "text/plain": [
       "|0110⟩\t0,7071067811865476 + 0𝑖\n",
       "|1001⟩\t0,7071067811865476 + 0𝑖"
      ]
     },
     "metadata": {},
     "output_type": "display_data"
    },
    {
     "data": {
      "text/plain": [
       "()"
      ]
     },
     "execution_count": 38,
     "metadata": {},
     "output_type": "execute_result"
    }
   ],
   "source": [
    "OneTest.simulate()"
   ]
  },
  {
   "cell_type": "markdown",
   "id": "47db12f7",
   "metadata": {},
   "source": [
    "Great! That was our goal"
   ]
  },
  {
   "cell_type": "markdown",
   "id": "56496c38",
   "metadata": {},
   "source": [
    "## Single qubit operation"
   ]
  },
  {
   "cell_type": "markdown",
   "id": "95075a72",
   "metadata": {},
   "source": [
    "In order to use our logical qubit as an actual qubit, we need to define a sufficent number of operations, in order to get an [universal set of gates](https://en.wikipedia.org/wiki/Quantum_logic_gate#Universal_quantum_gates). We will need a few single qubit gates, and at least one entangling multi-qubit gate. Like in hardware implementation, the later gate will be the hardest to implement, we will come back to it later. Here is an example of two single logical qubit gates made from single physical qubit gates:"
   ]
  },
  {
   "cell_type": "code",
   "execution_count": 7,
   "id": "741fda6e",
   "metadata": {},
   "outputs": [],
   "source": [
    "%%qsharp\n",
    "\n",
    "operation X_L (qs : Qubit[]) : Unit is Adj+Ctl {\n",
    "    X(qs[0]);\n",
    "    X(qs[1]);\n",
    "}\n",
    "\n",
    "operation Z_L (qs : Qubit[]) : Unit is Adj+Ctl {\n",
    "    Z(qs[0]);\n",
    "    Z(qs[2]);\n",
    "}"
   ]
  },
  {
   "cell_type": "markdown",
   "id": "5cce5e70",
   "metadata": {},
   "source": [
    "In normal operation, we know the logical qubit is in either of the two state, or in a superposition of the two. If we want to measure the logical qubit to project it onto one of the two states, we don't have to measure all of its physical qubits. Indeed, looking only at the second and third qubit, we see that in $|0_L\\rangle$ case, we have$(|10\\rangle + |01\\rangle)/\\sqrt{2}$ whereas in the $|1_L\\rangle$, we have$(|00\\rangle + |11\\rangle)/\\sqrt{2}$\n",
    "This means we can distinguish the two states by only doing parity measurement of the physical qubits 2 & 3. (although redundancy measurements could reduce erroneous readings!)"
   ]
  },
  {
   "cell_type": "code",
   "execution_count": 8,
   "id": "25aa7a8e",
   "metadata": {},
   "outputs": [],
   "source": [
    "%%qsharp\n",
    "\n",
    "operation Measure_L(qs : Qubit[]) : Result {\n",
    "    let res = Measure([PauliZ, PauliZ], qs[1..2]);\n",
    "    //Note the logical one state has indeed Zero result when \n",
    "    //parity is measured, and logical zero has One.\n",
    "    return res == One ? Zero | One;\n",
    "}"
   ]
  },
  {
   "cell_type": "code",
   "execution_count": 9,
   "id": "22267e29",
   "metadata": {},
   "outputs": [],
   "source": [
    "%%qsharp\n",
    "\n",
    "operation MeasureTest(state : Int) : Result {\n",
    "    use qs = Qubit[4];\n",
    "    if state==0 {\n",
    "        PrepareZero_L(qs);\n",
    "    }\n",
    "    else {\n",
    "        PrepareOne_L(qs);\n",
    "    }\n",
    "    let res=Measure_L(qs);\n",
    "    ResetAll(qs);\n",
    "    return res;\n",
    "}"
   ]
  },
  {
   "cell_type": "code",
   "execution_count": 295,
   "id": "1ed992ca",
   "metadata": {},
   "outputs": [
    {
     "name": "stdout",
     "output_type": "stream",
     "text": [
      "We generate logical state 1, we measure it later as 1\n"
     ]
    }
   ],
   "source": [
    "state = 1\n",
    "print(f\"We generate logical state {state}, we measure it later as {MeasureTest.simulate(state=state)}\")"
   ]
  },
  {
   "cell_type": "markdown",
   "id": "1cb670eb",
   "metadata": {},
   "source": [
    "You can try to insert the previously defined single qubit operations in the MeasureTest operation, after logical qubit prepartion, and see how they affect measurement!"
   ]
  },
  {
   "cell_type": "markdown",
   "id": "90e990bd",
   "metadata": {},
   "source": [
    "### Experimenting with single qubit and Azure targets"
   ]
  },
  {
   "cell_type": "markdown",
   "id": "e283d8f7",
   "metadata": {},
   "source": [
    "We have not applied any quantum error correction yet, so the state is not so special for now. We can try to generate it on hardware available with Azure Quantum. First, let's check that our implementation is valid using IonQ's simulator."
   ]
  },
  {
   "cell_type": "code",
   "execution_count": 297,
   "id": "34069a44",
   "metadata": {},
   "outputs": [],
   "source": [
    "%%qsharp\n",
    "\n",
    "operation TimeWaster(q1 : Qubit, q2 : Qubit) : Unit {\n",
    "    //These are arbitrarly chosen operations on two qubits to wait while\n",
    "    //our actual logical qubit is decohering and decaying\n",
    "    H(q1);\n",
    "    CNOT(q1, q2);\n",
    "    Z(q1);\n",
    "    CNOT(q2, q1);\n",
    "    X(q2);\n",
    "}"
   ]
  },
  {
   "cell_type": "code",
   "execution_count": 299,
   "id": "aeebbb47",
   "metadata": {},
   "outputs": [],
   "source": [
    "%%qsharp\n",
    "\n",
    "operation PrepareDecayMeasure() : Result {\n",
    "    use qs = Qubit[4];\n",
    "    use waitingQubits = Qubit[2];\n",
    "    PrepareOne_L(qs);\n",
    "    for _ in 1..100 {\n",
    "        TimeWaster(waitingQubits[0], waitingQubits[1]);\n",
    "    }\n",
    "    //Because of the \"No Control Flow\" limitation of IonQ, measurement\n",
    "    // has to be returned right away, so we can't reuse the previously defined Measure_L operation.\n",
    "    X(qs[1]); //so that One corresponds to logical one.\n",
    "    return Measure([PauliZ, PauliZ], qs[1..2]);\n",
    "}"
   ]
  },
  {
   "cell_type": "markdown",
   "id": "44319d02",
   "metadata": {},
   "source": [
    "#### IonQ Simulator"
   ]
  },
  {
   "cell_type": "code",
   "execution_count": 300,
   "id": "91519b0a",
   "metadata": {},
   "outputs": [
    {
     "name": "stdout",
     "output_type": "stream",
     "text": [
      "Loading package Microsoft.Quantum.Providers.IonQ and dependencies...\n",
      "Active target is now ionq.simulator\n",
      "Submitting PrepareDecayMeasure to target ionq.simulator...\n",
      "Job successfully submitted for 100 shots.\n",
      "   Job name: PrepareDecayMeasureSim\n",
      "   Job ID: a3c0bc64-4af5-40fc-b371-7b92335d593d\n",
      "Waiting up to 240 seconds for Azure Quantum job to complete...\n",
      "[13:14:24] Current job status: Waiting\n",
      "[13:14:29] Current job status: Waiting\n",
      "[13:14:34] Current job status: Waiting\n",
      "[13:14:39] Current job status: Waiting\n",
      "[13:14:44] Current job status: Waiting\n",
      "[13:14:49] Current job status: Waiting\n",
      "[13:14:55] Current job status: Succeeded\n"
     ]
    }
   ],
   "source": [
    "# Set the target to ionq.simulator\n",
    "qsharp.azure.target(\"ionq.simulator\")\n",
    "\n",
    "# We'll use 100 shots (simulated runs). Timeout is in seconds.\n",
    "resultSim = qsharp.azure.execute(PrepareDecayMeasure, shots=100, jobName=\"PrepareDecayMeasureSim\", timeout=240)"
   ]
  },
  {
   "cell_type": "code",
   "execution_count": 301,
   "id": "3455795c",
   "metadata": {},
   "outputs": [
    {
     "data": {
      "image/png": "[encoded data removed]",
      "text/plain": [
       "<Figure size 432x288 with 1 Axes>"
      ]
     },
     "metadata": {
      "needs_background": "light"
     },
     "output_type": "display_data"
    }
   ],
   "source": [
    "from matplotlib import pyplot\n",
    "\n",
    "pyplot.bar(resultSim.keys(), resultSim.values())\n",
    "pyplot.title(\"Result\")\n",
    "pyplot.xlabel(\"Measurement\")\n",
    "_ = pyplot.ylabel(\"Probability\")"
   ]
  },
  {
   "cell_type": "markdown",
   "id": "ce9c5b59",
   "metadata": {},
   "source": [
    "#### IonQ QPU"
   ]
  },
  {
   "cell_type": "markdown",
   "id": "4e03f0e2",
   "metadata": {},
   "source": [
    "The code runs, let's try it on a target with actual noise : we will use the real hardware of IonQ."
   ]
  },
  {
   "cell_type": "markdown",
   "id": "65333c76",
   "metadata": {},
   "source": [
    "I will use the submit method, and collect the result later, as Jupyter gives a Timeout Error when waiting too long:"
   ]
  },
  {
   "cell_type": "code",
   "execution_count": 302,
   "id": "2bd552af",
   "metadata": {},
   "outputs": [
    {
     "name": "stdout",
     "output_type": "stream",
     "text": [
      "Loading package Microsoft.Quantum.Providers.IonQ and dependencies...\n",
      "Active target is now ionq.qpu\n",
      "Submitting PrepareDecayMeasure to target ionq.qpu...\n",
      "Job successfully submitted for 100 shots.\n",
      "   Job name: PrepareDecayMeas\n",
      "   Job ID: bc3a162b-fcc5-42eb-ac90-243cdf376ab9\n"
     ]
    }
   ],
   "source": [
    "# Set the target to IonQ's QPU\n",
    "qsharp.azure.target(\"ionq.qpu\")\n",
    "\n",
    "qpu_job1 = qsharp.azure.submit(PrepareDecayMeasure, shots=100, jobName=\"PrepareDecayMeas\", timeout=2400)"
   ]
  },
  {
   "cell_type": "code",
   "execution_count": 306,
   "id": "095788bc",
   "metadata": {},
   "outputs": [
    {
     "data": {
      "text/plain": [
       "{'id': 'bc3a162b-fcc5-42eb-ac90-243cdf376ab9', 'name': 'PrepareDecayMeas', 'status': 'Succeeded', 'uri': 'https://portal.azure.com/#@microsoft.onmicrosoft.com/resource/subscriptions/b0c3bbe3-7123-4ba4-9aa2-57d9845f4a1d/resourceGroups/AzureQuantum/providers/Microsoft.Quantum/Workspaces/qchack-2022-b/job_management?microsoft_azure_quantum_jobid=bc3a162b-fcc5-42eb-ac90-243cdf376ab9', 'provider': 'ionq', 'target': 'ionq.qpu', 'creation_time': '2022-04-10T11:15:20.7128131+00:00', 'begin_execution_time': '2022-04-10T11:24:04.31+00:00', 'end_execution_time': '2022-04-10T11:24:11.067+00:00', 'cost_estimate': '$0.00'}"
      ]
     },
     "execution_count": 306,
     "metadata": {},
     "output_type": "execute_result"
    }
   ],
   "source": [
    "qsharp.azure.status(qpu_job1.id)"
   ]
  },
  {
   "cell_type": "code",
   "execution_count": 307,
   "id": "56fb3449",
   "metadata": {},
   "outputs": [],
   "source": [
    "result_qpu1 = qsharp.azure.output(qpu_job1.id)"
   ]
  },
  {
   "cell_type": "code",
   "execution_count": 308,
   "id": "cfa41258",
   "metadata": {},
   "outputs": [
    {
     "data": {
      "image/png": "[encoded data removed]",
      "text/plain": [
       "<Figure size 432x288 with 1 Axes>"
      ]
     },
     "metadata": {
      "needs_background": "light"
     },
     "output_type": "display_data"
    }
   ],
   "source": [
    "pyplot.bar(result_qpu1.keys(), result_qpu1.values())\n",
    "pyplot.title(\"Result\")\n",
    "pyplot.xlabel(\"Measurement\")\n",
    "_ = pyplot.ylabel(\"Probability\")"
   ]
  },
  {
   "cell_type": "markdown",
   "id": "f2d74a15",
   "metadata": {},
   "source": [
    "The state already had the time to degrade! (high probability of getting the wrong state $|0_L\\rangle$).\n",
    "Can we put more gates to wait a longer time and let the state degrade more?\n",
    "\n",
    "I couldn't find the correct syntax for jobParams to create a parametrized operation, so I redefine another operation with more in-between \"waiting\" gates."
   ]
  },
  {
   "cell_type": "code",
   "execution_count": 304,
   "id": "d6b23ec1",
   "metadata": {},
   "outputs": [],
   "source": [
    "%%qsharp\n",
    "\n",
    "operation PrepareDecayMeasureMedium() : Result {\n",
    "    use qs = Qubit[4];\n",
    "    use waitingQubits = Qubit[2];\n",
    "    PrepareOne_L(qs);\n",
    "    for _ in 1..1000 {\n",
    "        TimeWaster(waitingQubits[0], waitingQubits[1]);\n",
    "    }\n",
    "    X(qs[1]); //so that One corresponds to logical one.\n",
    "    return Measure([PauliZ, PauliZ], qs[1..2]);\n",
    "}"
   ]
  },
  {
   "cell_type": "code",
   "execution_count": 305,
   "id": "edae83bb",
   "metadata": {},
   "outputs": [
    {
     "name": "stdout",
     "output_type": "stream",
     "text": [
      "Loading package Microsoft.Quantum.Providers.IonQ and dependencies...\n",
      "Active target is now ionq.qpu\n",
      "Submitting PrepareDecayMeasureMedium to target ionq.qpu...\n",
      "Job successfully submitted for 100 shots.\n",
      "   Job name: PrepareDecayMeas\n",
      "   Job ID: fa932390-d360-467a-b629-54103de20736\n"
     ]
    }
   ],
   "source": [
    "# Set the target to IonQ's QPU\n",
    "qsharp.azure.target(\"ionq.qpu\")\n",
    "\n",
    "qpu_job2 = qsharp.azure.submit(PrepareDecayMeasureMedium, shots=100, jobName=\"PrepareDecayMeas\", timeout=2400)"
   ]
  },
  {
   "cell_type": "code",
   "execution_count": 309,
   "id": "d42d0f75",
   "metadata": {},
   "outputs": [
    {
     "data": {
      "text/plain": [
       "{'id': 'fa932390-d360-467a-b629-54103de20736', 'name': 'PrepareDecayMeas', 'status': 'Succeeded', 'uri': 'https://portal.azure.com/#@microsoft.onmicrosoft.com/resource/subscriptions/b0c3bbe3-7123-4ba4-9aa2-57d9845f4a1d/resourceGroups/AzureQuantum/providers/Microsoft.Quantum/Workspaces/qchack-2022-b/job_management?microsoft_azure_quantum_jobid=fa932390-d360-467a-b629-54103de20736', 'provider': 'ionq', 'target': 'ionq.qpu', 'creation_time': '2022-04-10T11:16:12.9069163+00:00', 'begin_execution_time': '2022-04-10T11:24:13.281+00:00', 'end_execution_time': '2022-04-10T11:24:58.763+00:00', 'cost_estimate': '$0.00'}"
      ]
     },
     "execution_count": 309,
     "metadata": {},
     "output_type": "execute_result"
    }
   ],
   "source": [
    "qsharp.azure.status(qpu_job2.id)"
   ]
  },
  {
   "cell_type": "code",
   "execution_count": 310,
   "id": "7fdf33da",
   "metadata": {},
   "outputs": [
    {
     "data": {
      "image/png": "[encoded data removed]",
      "text/plain": [
       "<Figure size 432x288 with 1 Axes>"
      ]
     },
     "metadata": {
      "needs_background": "light"
     },
     "output_type": "display_data"
    }
   ],
   "source": [
    "result_qpu2 = qsharp.azure.output(qpu_job2.id)\n",
    "pyplot.bar(result_qpu2.keys(), result_qpu2.values())\n",
    "pyplot.title(\"Result\")\n",
    "pyplot.xlabel(\"Measurement\")\n",
    "_ = pyplot.ylabel(\"Probability\")"
   ]
  },
  {
   "cell_type": "markdown",
   "id": "96f160ba",
   "metadata": {},
   "source": [
    "To the opposite of my expectations, it seems the state is requilibrating toward a split 50/50 value. I expected the qubits to decay toward $|0000\\rangle$, thus always returning One when measured (as the parity of qubits 2 and 3 in this case is always 0), maybe we are not yet at $t\\gg T_2$. To clarify this I would definitely like to plot the final measurement results probabilities as a function of the time waited (that is number of times \"TimeWaster\" is repeated). Within the time constraint and the long queuing time of the QPU simulator, I'll leave this for another QCHack ;)"
   ]
  },
  {
   "cell_type": "markdown",
   "id": "cfee1e71",
   "metadata": {},
   "source": [
    "We have a single logical qubit that is made of 4 physical ones. If the physical ones are perfect, we can use the logical one without any issue; but as we've seen with the QPU, the noise quickly degrades the encoded state when using real hardware. Let's now see the motivation for using multiple physical qubits."
   ]
  },
  {
   "cell_type": "markdown",
   "id": "5cb91da4",
   "metadata": {},
   "source": [
    "# Single qubit error Detection"
   ]
  },
  {
   "cell_type": "markdown",
   "id": "d1a6bcbc",
   "metadata": {},
   "source": [
    "The general idea of quantum error detection (and then correction) in this scheme (and many others!) is to probe the state in a way that will not reveal the actual logical information, but that will tell us if one of the physical qubits made an error. We can achieve this thanks to the redundancy of the information."
   ]
  },
  {
   "cell_type": "markdown",
   "id": "66b05e3c",
   "metadata": {},
   "source": [
    "## Error detection"
   ]
  },
  {
   "cell_type": "markdown",
   "id": "73fbfe85",
   "metadata": {},
   "source": [
    "In our case, we have special quantum operators, that are called stabilizers, we will write them as $S_i$ where i is an integer to index them. We have for all i $S_i |0_L\\rangle=|0_L\\rangle$ and $S_i |1_L\\rangle=|1_L\\rangle$. The eigenvalue is always one. As such, if we measure these operators and find an eigenvalue different than one, we will know that an error occured as it means the physical qubits are not in one of the logical states.\n",
    "For a single logical qubit encoded in 4 physical qubits, we have a set of 3 stabilizers that can generate all the operators we need (you can multiply any of the three together to get new operators). Let's define their Measurement operators."
   ]
  },
  {
   "cell_type": "code",
   "execution_count": 184,
   "id": "531a8ffc",
   "metadata": {},
   "outputs": [],
   "source": [
    "%%qsharp\n",
    "\n",
    "operation MeasureS1(qs : Qubit[]) : Result {\n",
    "    Rz(2.0*PI(), qs[0]); //Global phase\n",
    "    return Measure([PauliZ, PauliZ], qs[0..1]);\n",
    "}\n",
    "\n",
    "operation MeasureS2(qs : Qubit[]) : Result {\n",
    "    Rz(2.0*PI(), qs[0]);\n",
    "    return Measure([PauliZ, PauliZ], qs[2..3]);\n",
    "}\n",
    "    \n",
    "operation MeasureS3(qs : Qubit[]) : Result {\n",
    "    return Measure([PauliX, PauliX, PauliX, PauliX], qs);\n",
    "}"
   ]
  },
  {
   "cell_type": "markdown",
   "id": "ab90ca9a",
   "metadata": {},
   "source": [
    "Let's test these in a simple simulation:"
   ]
  },
  {
   "cell_type": "code",
   "execution_count": 131,
   "id": "39e25918",
   "metadata": {},
   "outputs": [],
   "source": [
    "%%qsharp\n",
    "\n",
    "operation DetectSingleQubitFlip(qs : Qubit[]) : Bool {\n",
    "    let resS1 = MeasureS1(qs);\n",
    "    let resS2 = MeasureS2(qs);\n",
    "    mutable error = false;\n",
    "    //any of the two returning zero indicate\n",
    "    if resS1 == Zero or resS2 == Zero {\n",
    "        set error = true;\n",
    "    }\n",
    "    return error;\n",
    "}\n",
    "\n",
    "operation DetectSingleQubitDephase(qs : Qubit[]) : Bool {\n",
    "    let res = MeasureS3(qs);\n",
    "    return res == One ? true | false;\n",
    "}\n",
    "\n",
    "operation SingleErrorTest(doFlipE : Bool, doPhaseE : Bool) : Unit {\n",
    "    use qs = Qubit[4];\n",
    "    PrepareZero_L(qs);\n",
    "    if doFlipE {\n",
    "        X(qs[0]); //One qubit flip error\n",
    "    }\n",
    "    if doPhaseE {\n",
    "        Z(qs[1]); //One qubit phase error\n",
    "    }\n",
    "    let errorFlip = DetectSingleQubitFlip(qs);\n",
    "    let errorPhase = DetectSingleQubitDephase(qs);\n",
    "    if errorFlip {\n",
    "        Message(\"Flip error detected!\");\n",
    "    }\n",
    "    else {\n",
    "        Message(\"No flip error detected.\");\n",
    "    }\n",
    "    if errorPhase {\n",
    "        Message(\"Phase error detected!\");\n",
    "    }\n",
    "    else {\n",
    "        Message(\"No phase error detected.\");\n",
    "    }\n",
    "    DumpMachine();\n",
    "    ResetAll(qs);\n",
    "}"
   ]
  },
  {
   "cell_type": "code",
   "execution_count": 315,
   "id": "7f127ab9",
   "metadata": {},
   "outputs": [
    {
     "name": "stdout",
     "output_type": "stream",
     "text": [
      "No flip error detected.\r\n",
      "Phase error detected!\r\n"
     ]
    },
    {
     "data": {
      "application/x-qsharp-data": "{\"diagnostic_kind\":\"state-vector\",\"qubit_ids\":[0,1,2,3],\"n_qubits\":4,\"amplitudes\":{\"0\":{\"Real\":2.6434987047674163E-34,\"Imaginary\":1.9236129703925407E-67,\"Magnitude\":2.6434987047674163E-34,\"Phase\":7.276769104987273E-34},\"1\":{\"Real\":-1.1496735851465478E-17,\"Imaginary\":-4.1031598830142074E-50,\"Magnitude\":1.1496735851465478E-17,\"Phase\":-3.141592653589793},\"2\":{\"Real\":1.1496735851465478E-17,\"Imaginary\":4.1031598830142074E-50,\"Magnitude\":1.1496735851465478E-17,\"Phase\":3.568978130858927E-33},\"3\":{\"Real\":-2.6434987047674163E-34,\"Imaginary\":-1.9236129703925407E-67,\"Magnitude\":2.6434987047674163E-34,\"Phase\":-3.141592653589793},\"4\":{\"Real\":5.060221072781527E-34,\"Imaginary\":-1.9236129703925407E-67,\"Magnitude\":5.060221072781527E-34,\"Phase\":-3.8014405748782034E-34},\"5\":{\"Real\":0.7071067811865479,\"Imaginary\":-5.423816249231781E-33,\"Magnitude\":0.7071067811865479,\"Phase\":-7.670434499483152E-33},\"6\":{\"Real\":1.6258839764163436E-17,\"Imaginary\":-4.1031598830142074E-50,\"Magnitude\":1.6258839764163436E-17,\"Phase\":-2.5236486382368423E-33},\"7\":{\"Real\":-2.2993471702930947E-17,\"Imaginary\":-8.206319766028431E-50,\"Magnitude\":2.2993471702930947E-17,\"Phase\":-3.141592653589793},\"8\":{\"Real\":2.2993471702930947E-17,\"Imaginary\":8.206319766028431E-50,\"Magnitude\":2.2993471702930947E-17,\"Phase\":3.568978130858935E-33},\"9\":{\"Real\":-1.6258839764163436E-17,\"Imaginary\":4.1031598830142074E-50,\"Magnitude\":1.6258839764163436E-17,\"Phase\":3.141592653589793},\"10\":{\"Real\":-0.7071067811865479,\"Imaginary\":5.423816249231781E-33,\"Magnitude\":0.7071067811865479,\"Phase\":3.141592653589793},\"11\":{\"Real\":-5.060221072781527E-34,\"Imaginary\":1.9236129703925407E-67,\"Magnitude\":5.060221072781527E-34,\"Phase\":3.141592653589793},\"12\":{\"Real\":2.6434987047674163E-34,\"Imaginary\":1.9236129703925407E-67,\"Magnitude\":2.6434987047674163E-34,\"Phase\":7.276769104987273E-34},\"13\":{\"Real\":-1.1496735851465478E-17,\"Imaginary\":-4.1031598830142074E-50,\"Magnitude\":1.1496735851465478E-17,\"Phase\":-3.141592653589793},\"14\":{\"Real\":1.1496735851465478E-17,\"Imaginary\":4.1031598830142074E-50,\"Magnitude\":1.1496735851465478E-17,\"Phase\":3.568978130858927E-33},\"15\":{\"Real\":-2.6434987047674163E-34,\"Imaginary\":-1.9236129703925407E-67,\"Magnitude\":2.6434987047674163E-34,\"Phase\":-3.141592653589793}}}",
      "text/html": [
       "\r\n",
       "                    <table style=\"table-layout: fixed; width: 100%\">\r\n",
       "                        <thead>\r\n",
       "                            \r\n",
       "                        <tr>\r\n",
       "                            <th>Qubit IDs</th>\r\n",
       "                            <td span=\"3\">0, 1, 2, 3</td>\r\n",
       "                        </tr>\r\n",
       "                    \r\n",
       "                            <tr>\r\n",
       "                                <th style=\"width: 20ch)\">Basis state (bitstring)</th>\r\n",
       "                                <th style=\"width: 20ch\">Amplitude</th><th style=\"width: calc(100% - 26ch - 20ch)\">Meas. Pr.</th><th style=\"width: 6ch\">Phase</th>\r\n",
       "                            </tr>\r\n",
       "                        </thead>\r\n",
       "                        <tbody>\r\n",
       "                        \r\n",
       "                            <tr>\r\n",
       "                                <td>$\\left|0101\\right\\rangle$</td>\r\n",
       "                                <td>$-0.7071 + 0.0000 i$</td>\r\n",
       "                                \r\n",
       "                                <td>\r\n",
       "                                    <progress\r\n",
       "                                        max=\"100\"\r\n",
       "                                        value=\"50.00000000000006\"\r\n",
       "                                        style=\"width: 100%;\"\r\n",
       "                                    > \r\n",
       "                                    <td>\r\n",
       "                                    <p id=\"round-750b5c60-4a29-40c8-b9f6-dc59553a58fd\"> \r\n",
       "                                    <script>\r\n",
       "                                    var num = 50.00000000000006;\r\n",
       "                                    num = num.toFixed(4);\r\n",
       "                                    var num_string = num + \"%\";\r\n",
       "                                     document.getElementById(\"round-750b5c60-4a29-40c8-b9f6-dc59553a58fd\").innerHTML = num_string;\r\n",
       "                                    </script> </p>\r\n",
       "                                    </td>\r\n",
       "                                </td>\r\n",
       "                            \r\n",
       "                                \r\n",
       "                                <td style=\"transform: rotate(180deg);\r\n",
       "                   text-align: center;\">\r\n",
       "                                 ↑\r\n",
       "                                </td>\r\n",
       "                            \r\n",
       "                            </tr>\r\n",
       "                        \n",
       "\r\n",
       "                            <tr>\r\n",
       "                                <td>$\\left|1010\\right\\rangle$</td>\r\n",
       "                                <td>$0.7071  -0.0000 i$</td>\r\n",
       "                                \r\n",
       "                                <td>\r\n",
       "                                    <progress\r\n",
       "                                        max=\"100\"\r\n",
       "                                        value=\"50.00000000000006\"\r\n",
       "                                        style=\"width: 100%;\"\r\n",
       "                                    > \r\n",
       "                                    <td>\r\n",
       "                                    <p id=\"round-e0292028-a85d-453e-8bd8-5661b31da515\"> \r\n",
       "                                    <script>\r\n",
       "                                    var num = 50.00000000000006;\r\n",
       "                                    num = num.toFixed(4);\r\n",
       "                                    var num_string = num + \"%\";\r\n",
       "                                     document.getElementById(\"round-e0292028-a85d-453e-8bd8-5661b31da515\").innerHTML = num_string;\r\n",
       "                                    </script> </p>\r\n",
       "                                    </td>\r\n",
       "                                </td>\r\n",
       "                            \r\n",
       "                                \r\n",
       "                                <td style=\"transform: rotate(-4,3948352385192665E-31deg);\r\n",
       "                   text-align: center;\">\r\n",
       "                                 ↑\r\n",
       "                                </td>\r\n",
       "                            \r\n",
       "                            </tr>\r\n",
       "                        \r\n",
       "                        </tbody>\r\n",
       "                    </table>"
      ],
      "text/plain": [
       "|0101⟩\t-0,7071067811865479 + 5,423816249231781E-33𝑖\n",
       "|1010⟩\t0,7071067811865479 + -5,423816249231781E-33𝑖"
      ]
     },
     "metadata": {},
     "output_type": "display_data"
    },
    {
     "data": {
      "text/plain": [
       "()"
      ]
     },
     "execution_count": 315,
     "metadata": {},
     "output_type": "execute_result"
    }
   ],
   "source": [
    "SingleErrorTest.simulate(doFlipE=False, doPhaseE=True) #You can try to change the parameters"
   ]
  },
  {
   "cell_type": "markdown",
   "id": "c1026530",
   "metadata": {},
   "source": [
    "We detected erors thanks to the stabilizers. Notice that the measurement operators themselves don't change the logical state.\n",
    "To correct the error we have to do more measurement to find which qubit to act on."
   ]
  },
  {
   "cell_type": "markdown",
   "id": "54d48403",
   "metadata": {},
   "source": [
    "## Error correction (simplified)"
   ]
  },
  {
   "cell_type": "markdown",
   "id": "6c773806",
   "metadata": {},
   "source": [
    "This 2X2 surface code is actually a bit limited, and won't be able to correct all kinds of errors. In our case, we don't have enough stabilizers (and can't get more because of the limited size of our surface code!) to find which qubit is flipped for example. We still want to demonstrate the idea of error correction, so let's try to correct a phase flip under restricted circumstances:\n",
    "\n",
    "We focus on a single qubit, and assume there is no bit flip (hopefully this will be the case in ion-trap computers where $T_1 \\gg T_2$. The qubit is in $|0_L\\rangle=(|0101\\rangle+|1010\\rangle)/\\sqrt{2}$ or $|1_L\\rangle=(|1001\\rangle+|0110\\rangle)/\\sqrt{2}$ or a superposition of the two. If a single phase error occurs, $|0_L\\rangle$ becomes (up to a global phase) $(|0101\\rangle-|1010\\rangle)/\\sqrt{2}$ and $|1_L\\rangle$ becomes $(|1001\\rangle-|0110\\rangle)/\\sqrt{2}$. By applying Z gates to the first two physical qubits the error is \"corrected\". (Notice that if one of these qubits is also flipped because of an other error, it might not work, and the global phase is not corrected)."
   ]
  },
  {
   "cell_type": "code",
   "execution_count": 178,
   "id": "b5a194f5",
   "metadata": {},
   "outputs": [],
   "source": [
    "%%qsharp\n",
    "\n",
    "operation PhaseErrorSemiCorrection(qs : Qubit[]) : Unit {\n",
    "    let errDetected = DetectSingleQubitDephase(qs);\n",
    "    if errDetected {\n",
    "        Z(qs[0]);\n",
    "        Z(qs[1]);\n",
    "    }\n",
    "}"
   ]
  },
  {
   "cell_type": "markdown",
   "id": "17be5259",
   "metadata": {},
   "source": [
    "Let's define two operations where we monitor this $S_3$ stabilizer with and without correction to test our scheme:"
   ]
  },
  {
   "cell_type": "code",
   "execution_count": 264,
   "id": "5f8fb75f",
   "metadata": {},
   "outputs": [],
   "source": [
    "%%qsharp\n",
    "\n",
    "operation CorrTest() : Result {\n",
    "    use qs = Qubit[4];\n",
    "    PrepareZero_L(qs);\n",
    "    for _ in 1..10 {\n",
    "        //I get FullComputation runtime capability not supported error\n",
    "        //if I use the previous defined operation \"DetectSingleQubitDephase\" \n",
    "        //(maybe nesting issue?)\n",
    "        //Here the code is in a single function.\n",
    "        let res = Measure([PauliX, PauliX, PauliX, PauliX], qs);\n",
    "        if res==One {\n",
    "            Z(qs[0]);\n",
    "            Z(qs[1]);\n",
    "        }\n",
    "    }\n",
    "    //We can't measure in Z basis to see the phase effect!\n",
    "    //We'll use this X basis measurement to characterize the final state\n",
    "    let resfinal = Measure([PauliX, PauliX, PauliX, PauliX], qs);\n",
    "    return resfinal;\n",
    "}\n",
    "\n",
    "operation DetectOnlyTest() : Result {\n",
    "    use qs = Qubit[4];\n",
    "    PrepareZero_L(qs);\n",
    "    for _ in 1..10 {\n",
    "        let res = Measure([PauliX, PauliX, PauliX, PauliX], qs);\n",
    "    }\n",
    "    return Measure([PauliX, PauliX, PauliX, PauliX], qs);\n",
    "}"
   ]
  },
  {
   "cell_type": "markdown",
   "id": "d5eb217d",
   "metadata": {},
   "source": [
    "Note we can't use IonQ targets for this, as if we did, the operation would have to stop just after the measurement, which limits the scheme relevance. (the qubit is no longer usable!)"
   ]
  },
  {
   "cell_type": "markdown",
   "id": "5a9516bf",
   "metadata": {},
   "source": [
    "#### Job submitting to Quantinuum simulator"
   ]
  },
  {
   "cell_type": "code",
   "execution_count": 268,
   "id": "6b3722ad",
   "metadata": {},
   "outputs": [
    {
     "name": "stdout",
     "output_type": "stream",
     "text": [
      "Loading package Microsoft.Quantum.Providers.Honeywell and dependencies...\n",
      "Active target is now quantinuum.hqs-lt-s1-sim\n",
      "Submitting CorrTest to target quantinuum.hqs-lt-s1-sim...\n",
      "Job successfully submitted for 100 shots.\n",
      "   Job name: SemiPhaseCorrection\n",
      "   Job ID: 6ef89328-7581-4c03-ae3a-22dae4ef6b6d\n"
     ]
    }
   ],
   "source": [
    "# Set the target to Quantinuum simulator\n",
    "qsharp.azure.target(\"quantinuum.hqs-lt-s1-sim\")\n",
    "\n",
    "semiErrorCorrec = qsharp.azure.submit(CorrTest, shots=100, jobName=\"SemiPhaseCorrection\", timeout=2400)"
   ]
  },
  {
   "cell_type": "code",
   "execution_count": 272,
   "id": "f93eca1c",
   "metadata": {
    "scrolled": true
   },
   "outputs": [
    {
     "data": {
      "text/plain": [
       "{'id': '6ef89328-7581-4c03-ae3a-22dae4ef6b6d', 'name': 'SemiPhaseCorrection', 'status': 'Succeeded', 'uri': 'https://portal.azure.com/#@microsoft.onmicrosoft.com/resource/subscriptions/b0c3bbe3-7123-4ba4-9aa2-57d9845f4a1d/resourceGroups/AzureQuantum/providers/Microsoft.Quantum/Workspaces/qchack-2022-b/job_management?microsoft_azure_quantum_jobid=6ef89328-7581-4c03-ae3a-22dae4ef6b6d', 'provider': 'quantinuum', 'target': 'quantinuum.hqs-lt-s1-sim', 'creation_time': '2022-04-10T10:50:33.0400792+00:00', 'begin_execution_time': '2022-04-10T10:52:11.842617+00:00', 'end_execution_time': '2022-04-10T10:52:34.746325+00:00', 'cost_estimate': ''}"
      ]
     },
     "execution_count": 272,
     "metadata": {},
     "output_type": "execute_result"
    }
   ],
   "source": [
    "qsharp.azure.status(semiErrorCorrec.id)"
   ]
  },
  {
   "cell_type": "code",
   "execution_count": 277,
   "id": "02acdf9b",
   "metadata": {},
   "outputs": [],
   "source": [
    "semiErrorCorrecRes = qsharp.azure.output(semiErrorCorrec.id)"
   ]
  },
  {
   "cell_type": "code",
   "execution_count": 270,
   "id": "666392cd",
   "metadata": {},
   "outputs": [
    {
     "name": "stdout",
     "output_type": "stream",
     "text": [
      "Loading package Microsoft.Quantum.Providers.Honeywell and dependencies...\n",
      "Active target is now quantinuum.hqs-lt-s1-sim\n",
      "Submitting DetectOnlyTest to target quantinuum.hqs-lt-s1-sim...\n",
      "Job successfully submitted for 100 shots.\n",
      "   Job name: PhaseDetection\n",
      "   Job ID: 3b4724f1-ee21-4a87-bb81-fa6d1f0d5e4c\n"
     ]
    }
   ],
   "source": [
    "# Set the target to Quantinuum simulator\n",
    "qsharp.azure.target(\"quantinuum.hqs-lt-s1-sim\")\n",
    "\n",
    "PhaseDetecJob = qsharp.azure.submit(DetectOnlyTest, shots=100, jobName=\"PhaseDetection\", timeout=2400)"
   ]
  },
  {
   "cell_type": "code",
   "execution_count": 274,
   "id": "43f6f389",
   "metadata": {},
   "outputs": [
    {
     "data": {
      "text/plain": [
       "{'id': '3b4724f1-ee21-4a87-bb81-fa6d1f0d5e4c', 'name': 'PhaseDetection', 'status': 'Succeeded', 'uri': 'https://portal.azure.com/#@microsoft.onmicrosoft.com/resource/subscriptions/b0c3bbe3-7123-4ba4-9aa2-57d9845f4a1d/resourceGroups/AzureQuantum/providers/Microsoft.Quantum/Workspaces/qchack-2022-b/job_management?microsoft_azure_quantum_jobid=3b4724f1-ee21-4a87-bb81-fa6d1f0d5e4c', 'provider': 'quantinuum', 'target': 'quantinuum.hqs-lt-s1-sim', 'creation_time': '2022-04-10T10:51:31.2166385+00:00', 'begin_execution_time': '2022-04-10T10:52:52.513832+00:00', 'end_execution_time': '2022-04-10T10:53:14.352422+00:00', 'cost_estimate': ''}"
      ]
     },
     "execution_count": 274,
     "metadata": {},
     "output_type": "execute_result"
    }
   ],
   "source": [
    "qsharp.azure.status(PhaseDetecJob.id)"
   ]
  },
  {
   "cell_type": "code",
   "execution_count": 278,
   "id": "8f5dc42a",
   "metadata": {},
   "outputs": [],
   "source": [
    "PhaseDetecRes = qsharp.azure.output(PhaseDetecJob.id)"
   ]
  },
  {
   "cell_type": "markdown",
   "id": "7fc64bb2",
   "metadata": {},
   "source": [
    "#### Phase correction results"
   ]
  },
  {
   "cell_type": "code",
   "execution_count": 318,
   "id": "9389fdd1",
   "metadata": {},
   "outputs": [
    {
     "data": {
      "image/png": "[encoded data removed]",
      "text/plain": [
       "<Figure size 432x288 with 1 Axes>"
      ]
     },
     "metadata": {
      "needs_background": "light"
     },
     "output_type": "display_data"
    }
   ],
   "source": [
    "pyplot.bar(PhaseDetecRes.keys(), PhaseDetecRes.values(), align=\"edge\", width=0.4, label=\"Detect the phase only\")\n",
    "pyplot.bar(semiErrorCorrecRes.keys(), semiErrorCorrecRes.values(), align=\"edge\", width=-0.4, label=\"Correct phase errors\")\n",
    "pyplot.title(\"Phase correction scheme results\")\n",
    "pyplot.xlabel(\"Measurement: XXXX\")\n",
    "pyplot.legend(loc=\"upper right\")\n",
    "_ = pyplot.ylabel(\"Probability\")"
   ]
  },
  {
   "cell_type": "markdown",
   "id": "ebe47770",
   "metadata": {},
   "source": [
    "With this quite simple correction scheme, we managed to have less erroneous states (measured as 1 here) at the end of the operation! The measurement is pretty close to 0 (the expected one in errorless environment) at the end, which seems to confirm that we mainly have decoherence effect (rather than decay). Note that the scheme will not correct for two qubits phase erros, and is not really usable in practice due to the global phase too."
   ]
  },
  {
   "cell_type": "markdown",
   "id": "45ff85be",
   "metadata": {},
   "source": [
    "# Two logical qubits gate"
   ]
  },
  {
   "cell_type": "markdown",
   "id": "962f4608",
   "metadata": {},
   "source": [
    "To actually use this encoding as qubits, we need an entangling two qubit gates. The scheme gets more complicated! The idea is to view the two logical qubits encoded on a 2X2 lattice of qubits as one encoded on a 4X2 lattice. Thanks to two joint measurements, we then project this \"merged\" qubit onto a state (that will entangle the two initial logical qubits). The merged qubit is finally split again thanks to one last measurement.\n",
    "All in all, starting from $|0_L0_L\\rangle$ and applying the technique, we can end up in the maximally entangled state $|\\phi^+\\rangle = (|0_L0_L\\rangle + |1_L1_L\\rangle)/\\sqrt{2}$ or in $|\\phi^-\\rangle = (|0_L0_L\\rangle - |1_L1_L\\rangle)/\\sqrt{2}$ depending on the in-sequence joint measurements results (that are random!).\n",
    "\n",
    "To get a better visualization, the original author of the scheme view the corresponding operations and their effect on the qubit lattice. The grouping and degrouping of physical qubits are the origin of the name \"Lattice Surgery\" of this technique."
   ]
  },
  {
   "cell_type": "markdown",
   "id": "835e10d7",
   "metadata": {},
   "source": [
    "Writing the operations is less work than it seems, though the underlying quantum computer operations are rather complicated!"
   ]
  },
  {
   "cell_type": "code",
   "execution_count": 47,
   "id": "c573f78b",
   "metadata": {},
   "outputs": [],
   "source": [
    "%%qsharp\n",
    "\n",
    "operation MergeJointMeasure (qsA : Qubit[], qsB : Qubit[]) : Result {\n",
    "    return Measure([PauliX, PauliX, PauliX, PauliX], [qsA[2], qsA[3], qsB[0], qsB[1]]);\n",
    "}\n",
    "\n",
    "operation SplitJointMeasureA (qsA : Qubit[], qsB : Qubit[]) : Result {\n",
    "    return Measure([PauliZ, PauliZ], qsA[0..1]);\n",
    "}"
   ]
  },
  {
   "cell_type": "markdown",
   "id": "3f3ec8fa",
   "metadata": {},
   "source": [
    "## Demonstrating entangled state generation"
   ]
  },
  {
   "cell_type": "markdown",
   "id": "b0a6cf30",
   "metadata": {},
   "source": [
    "Depending on the in-sequence measurements, we will not get the same state in the end."
   ]
  },
  {
   "cell_type": "markdown",
   "id": "ca97b158",
   "metadata": {},
   "source": [
    "Preparing the measurements needed to characterize the final state:"
   ]
  },
  {
   "cell_type": "code",
   "execution_count": 49,
   "id": "5add4bde",
   "metadata": {},
   "outputs": [],
   "source": [
    "%%qsharp\n",
    "\n",
    "operation MeasureZAZB (qsA : Qubit[], qsB : Qubit[]) : Result {\n",
    "    return Measure([PauliZ, PauliZ, PauliZ, PauliZ], [qsA[0], qsA[2], qsB[0], qsB[2]]);\n",
    "}\n",
    "\n",
    "operation MeasureXAXB (qsA : Qubit[], qsB : Qubit[]) : Result {\n",
    "    return Measure([PauliX, PauliX, PauliX, PauliX], [qsA[0], qsA[1], qsB[0], qsB[1]]);\n",
    "}\n",
    "\n",
    "operation MeasureYAYB (qsA : Qubit[], qsB : Qubit[]) : Result {\n",
    "    return Measure([PauliY, PauliX, PauliZ, PauliY, PauliX, PauliZ], [qsA[0], qsA[1], qsA[2], qsB[0], qsB[1], qsB[2]]);\n",
    "}"
   ]
  },
  {
   "cell_type": "code",
   "execution_count": 69,
   "id": "05a7daf8",
   "metadata": {},
   "outputs": [],
   "source": [
    "%%qsharp\n",
    "\n",
    "operation GenerateMergedThenSplit_MZZ () : Result[] {\n",
    "    use qsA = Qubit[4];\n",
    "    use qsB = Qubit[4];\n",
    "    //Encode the 00 logical state\n",
    "    PrepareZero_L(qsA);\n",
    "    PrepareZero_L(qsB);\n",
    "    //Use the merge joint measurement to project into the merged basis\n",
    "    let resM = MergeJointMeasure(qsA, qsB);\n",
    "    //Split them back into two logical qubits\n",
    "    let resS = SplitJointMeasureA(qsA, qsB);\n",
    "    let resZZ = MeasureZAZB(qsA, qsB);\n",
    "    ResetAll(qsA);\n",
    "    ResetAll(qsB);\n",
    "    return [resM, resS, resZZ];\n",
    "}\n",
    "\n",
    "operation GenerateMergedThenSplit_MXX () : Result[] {\n",
    "    use qsA = Qubit[4];\n",
    "    use qsB = Qubit[4];\n",
    "    //Encode the 00 logical state\n",
    "    PrepareZero_L(qsA);\n",
    "    PrepareZero_L(qsB);\n",
    "    //Use the merge joint measurement to project into the merged basis\n",
    "    let resM = MergeJointMeasure(qsA, qsB);\n",
    "    //Split them back into two logical qubits\n",
    "    let resS = SplitJointMeasureA(qsA, qsB);\n",
    "    let resXX = MeasureXAXB(qsA, qsB);\n",
    "    ResetAll(qsA);\n",
    "    ResetAll(qsB);\n",
    "    return [resM, resS, resXX];\n",
    "}\n",
    "\n",
    "operation GenerateMergedThenSplit_MYY () : Result[] {\n",
    "    use qsA = Qubit[4];\n",
    "    use qsB = Qubit[4];\n",
    "    //Encode the 00 logical state\n",
    "    PrepareZero_L(qsA);\n",
    "    PrepareZero_L(qsB);\n",
    "    //Use the merge joint measurement to project into the merged basis\n",
    "    let resM = MergeJointMeasure(qsA, qsB);\n",
    "    //Split them back into two logical qubits\n",
    "    let resS = SplitJointMeasureA(qsA, qsB);\n",
    "    let resYY = MeasureXAXB(qsA, qsB);\n",
    "    ResetAll(qsA);\n",
    "    ResetAll(qsB);\n",
    "    return [resM, resS, resYY];\n",
    "}"
   ]
  },
  {
   "cell_type": "markdown",
   "id": "eba24203",
   "metadata": {},
   "source": [
    "#### Submitting simulation to Quantinuum simulator"
   ]
  },
  {
   "cell_type": "markdown",
   "id": "156c322b",
   "metadata": {},
   "source": [
    "Again, there are measurements in-sequence, so we can't use IonQ hardware."
   ]
  },
  {
   "cell_type": "code",
   "execution_count": 52,
   "id": "58690be6",
   "metadata": {},
   "outputs": [
    {
     "name": "stdout",
     "output_type": "stream",
     "text": [
      "Loading package Microsoft.Quantum.Providers.Honeywell and dependencies...\n",
      "Active target is now quantinuum.hqs-lt-s1-sim\n",
      "Submitting GenerateMergedThenSplit to target quantinuum.hqs-lt-s1-sim...\n",
      "Job successfully submitted for 100 shots.\n",
      "   Job name: InseqMeasTest\n",
      "   Job ID: 79cb14ee-d578-4bbf-8945-343eace26b7f\n"
     ]
    }
   ],
   "source": [
    "# Set the target to Quantinuum simulator\n",
    "qsharp.azure.target(\"quantinuum.hqs-lt-s1-sim\")\n",
    "\n",
    "stateGenJobZZ = qsharp.azure.submit(GenerateMergedThenSplit_MZZ, shots=100, jobName=\"PairGenMeasureZZ\", timeout=2400)"
   ]
  },
  {
   "cell_type": "code",
   "execution_count": 64,
   "id": "87218eaa",
   "metadata": {},
   "outputs": [
    {
     "data": {
      "text/plain": [
       "{'id': '79cb14ee-d578-4bbf-8945-343eace26b7f', 'name': 'InseqMeasTest', 'status': 'Succeeded', 'uri': 'https://portal.azure.com/#@microsoft.onmicrosoft.com/resource/subscriptions/b0c3bbe3-7123-4ba4-9aa2-57d9845f4a1d/resourceGroups/AzureQuantum/providers/Microsoft.Quantum/Workspaces/qchack-2022-b/job_management?microsoft_azure_quantum_jobid=79cb14ee-d578-4bbf-8945-343eace26b7f', 'provider': 'quantinuum', 'target': 'quantinuum.hqs-lt-s1-sim', 'creation_time': '2022-04-10T07:22:39.0504634+00:00', 'begin_execution_time': '2022-04-10T07:23:58.044121+00:00', 'end_execution_time': '2022-04-10T07:23:58.04433+00:00', 'cost_estimate': ''}"
      ]
     },
     "execution_count": 64,
     "metadata": {},
     "output_type": "execute_result"
    }
   ],
   "source": [
    "qsharp.azure.status(stateGenJobZZ.id)"
   ]
  },
  {
   "cell_type": "code",
   "execution_count": 86,
   "id": "c2fa35f6",
   "metadata": {},
   "outputs": [],
   "source": [
    "resultsZZ = qsharp.azure.output(stateGenJobZZ.id)"
   ]
  },
  {
   "cell_type": "code",
   "execution_count": 71,
   "id": "58015131",
   "metadata": {},
   "outputs": [
    {
     "name": "stdout",
     "output_type": "stream",
     "text": [
      "Loading package Microsoft.Quantum.Providers.Honeywell and dependencies...\n",
      "Active target is now quantinuum.hqs-lt-s1-sim\n",
      "Submitting GenerateMergedThenSplit_MXX to target quantinuum.hqs-lt-s1-sim...\n",
      "Job successfully submitted for 100 shots.\n",
      "   Job name: PairGenMeasureXX\n",
      "   Job ID: 8e2a104f-1a6a-46b1-8e48-b6060965bad8\n"
     ]
    }
   ],
   "source": [
    "qsharp.azure.target(\"quantinuum.hqs-lt-s1-sim\")\n",
    "\n",
    "stateGenJobXX = qsharp.azure.submit(GenerateMergedThenSplit_MXX, shots=100, jobName=\"PairGenMeasureXX\", timeout=2400)"
   ]
  },
  {
   "cell_type": "code",
   "execution_count": 77,
   "id": "0ea3a80b",
   "metadata": {},
   "outputs": [
    {
     "data": {
      "text/plain": [
       "{'id': '8e2a104f-1a6a-46b1-8e48-b6060965bad8', 'name': 'PairGenMeasureXX', 'status': 'Succeeded', 'uri': 'https://portal.azure.com/#@microsoft.onmicrosoft.com/resource/subscriptions/b0c3bbe3-7123-4ba4-9aa2-57d9845f4a1d/resourceGroups/AzureQuantum/providers/Microsoft.Quantum/Workspaces/qchack-2022-b/job_management?microsoft_azure_quantum_jobid=8e2a104f-1a6a-46b1-8e48-b6060965bad8', 'provider': 'quantinuum', 'target': 'quantinuum.hqs-lt-s1-sim', 'creation_time': '2022-04-10T07:29:50.9003487+00:00', 'begin_execution_time': '2022-04-10T07:31:03.925443+00:00', 'end_execution_time': '2022-04-10T07:31:13.539834+00:00', 'cost_estimate': ''}"
      ]
     },
     "execution_count": 77,
     "metadata": {},
     "output_type": "execute_result"
    }
   ],
   "source": [
    "qsharp.azure.status(stateGenJobXX.id)"
   ]
  },
  {
   "cell_type": "code",
   "execution_count": 84,
   "id": "0ad219d5",
   "metadata": {},
   "outputs": [],
   "source": [
    "resultsXX = qsharp.azure.output(stateGenJobXX.id)"
   ]
  },
  {
   "cell_type": "code",
   "execution_count": 74,
   "id": "9298b41a",
   "metadata": {},
   "outputs": [
    {
     "name": "stdout",
     "output_type": "stream",
     "text": [
      "Loading package Microsoft.Quantum.Providers.Honeywell and dependencies...\n",
      "Active target is now quantinuum.hqs-lt-s1-sim\n",
      "Submitting GenerateMergedThenSplit_MYY to target quantinuum.hqs-lt-s1-sim...\n",
      "Job successfully submitted for 100 shots.\n",
      "   Job name: PairGenMeasureXX\n",
      "   Job ID: bf6d204a-9720-4977-86b8-a89f06300a6b\n"
     ]
    }
   ],
   "source": [
    "qsharp.azure.target(\"quantinuum.hqs-lt-s1-sim\")\n",
    "\n",
    "stateGenJobYY = qsharp.azure.submit(GenerateMergedThenSplit_MYY, shots=100, jobName=\"PairGenMeasureYY\", timeout=2400)"
   ]
  },
  {
   "cell_type": "code",
   "execution_count": 88,
   "id": "071343c1",
   "metadata": {},
   "outputs": [
    {
     "data": {
      "text/plain": [
       "{'id': 'bf6d204a-9720-4977-86b8-a89f06300a6b', 'name': 'PairGenMeasureXX', 'status': 'Succeeded', 'uri': 'https://portal.azure.com/#@microsoft.onmicrosoft.com/resource/subscriptions/b0c3bbe3-7123-4ba4-9aa2-57d9845f4a1d/resourceGroups/AzureQuantum/providers/Microsoft.Quantum/Workspaces/qchack-2022-b/job_management?microsoft_azure_quantum_jobid=bf6d204a-9720-4977-86b8-a89f06300a6b', 'provider': 'quantinuum', 'target': 'quantinuum.hqs-lt-s1-sim', 'creation_time': '2022-04-10T07:30:42.8811933+00:00', 'begin_execution_time': '2022-04-10T07:32:00.619235+00:00', 'end_execution_time': '2022-04-10T07:32:07.890009+00:00', 'cost_estimate': ''}"
      ]
     },
     "execution_count": 88,
     "metadata": {},
     "output_type": "execute_result"
    }
   ],
   "source": [
    "qsharp.azure.status(stateGenJobYY.id)"
   ]
  },
  {
   "cell_type": "code",
   "execution_count": 87,
   "id": "ff89a4e5",
   "metadata": {},
   "outputs": [],
   "source": [
    "resultsYY = qsharp.azure.output(stateGenJobYY.id)"
   ]
  },
  {
   "cell_type": "markdown",
   "id": "3e8c5063",
   "metadata": {},
   "source": [
    "#### Results analysis"
   ]
  },
  {
   "cell_type": "code",
   "execution_count": 95,
   "id": "71308d73",
   "metadata": {},
   "outputs": [
    {
     "name": "stdout",
     "output_type": "stream",
     "text": [
      "{'[1,1,0]': 0.4300000000000002, '[0,1,0]': 0.5100000000000002, '[0,0,0]': 0.01, '[1,0,0]': 0.02, '[1,1,1]': 0.02, '[0,1,1]': 0.01} {'[1,1,1]': 0.4300000000000002, '[0,1,0]': 0.5300000000000002, '[0,0,0]': 0.02, '[1,1,0]': 0.02} {'[1,1,1]': 0.5200000000000002, '[0,0,0]': 0.02, '[1,1,0]': 0.02, '[0,1,0]': 0.4300000000000002, '[0,0,1]': 0.01}\n"
     ]
    }
   ],
   "source": [
    "print(resultsZZ, resultsYY, resultsXX)"
   ]
  },
  {
   "cell_type": "markdown",
   "id": "32f1c78f",
   "metadata": {},
   "source": [
    "That's messy, where's our state?"
   ]
  },
  {
   "cell_type": "markdown",
   "id": "11f59b7e",
   "metadata": {},
   "source": [
    "Staying in the case where we input $|0_L0_L\\rangle$,we can demonstrate that if the in-sequence measurement (merge, split) return (0, 1) then the state generated is $|\\phi^+\\rangle = (|0_L0_L\\rangle + |1_L1_L\\rangle)/\\sqrt{2}$.\n",
    "If the in-sequence measurement return (1, 1), then the state generated is $|\\phi^-\\rangle = (|0_L0_L\\rangle - |1_L1_L\\rangle)/\\sqrt{2}$.\n",
    "Any other in-sequence measurement means an error occured!"
   ]
  },
  {
   "cell_type": "markdown",
   "id": "996db855",
   "metadata": {},
   "source": [
    "As we can't DumpMachine() the real quantum computer, we have to characterize the state using measurements. We will try to measure the fidelity of our generated $|\\psi\\rangle$ state $F(|\\phi^{\\pm}\\rangle)=|\\langle \\psi | \\phi^{\\pm}\\rangle|^2$ (actually what we measure is $|\\rho|\\phi^{\\pm}\\rangle|^2$ where $\\rho$ is the density matrix of the state we generated, the formalism allows for decoherence and decay, but is more complicated).\n",
    "\n",
    "We may show that in our case :\n",
    "$F(|\\phi^+\\rangle)=\\frac{1}{4}(1+\\langle Z_L^AZ_L^B\\rangle+\\langle X_L^AX_L^B\\rangle-\\langle Y_L^AY_L^B\\rangle)$\n",
    "and\n",
    "$F(|\\phi^-\\rangle)=\\frac{1}{4}(1+\\langle Z_L^AZ_L^B\\rangle-\\langle X_L^AX_L^B\\rangle+\\langle Y_L^AY_L^B\\rangle)$\n",
    "where $\\langle U \\rangle$ is the expectation value of operator $U$."
   ]
  },
  {
   "cell_type": "markdown",
   "id": "68e5d48f",
   "metadata": {},
   "source": [
    "Let's compare to our results!"
   ]
  },
  {
   "cell_type": "code",
   "execution_count": 111,
   "id": "7ee60c89",
   "metadata": {},
   "outputs": [],
   "source": [
    "def results_to_expectation(results, postselect):\n",
    "    '''Convert measurement probabilities to expectation values.'''\n",
    "    zero_res = results.get(f'[{postselect[0]},{postselect[1]},0]')\n",
    "    one_res = results.get(f'[{postselect[0]},{postselect[1]},1]')\n",
    "    if zero_res==None:\n",
    "        zero_res = 0\n",
    "    if one_res==None:\n",
    "        one_res = 0\n",
    "    total_proba = one_res + zero_res\n",
    "    return (-1*one_res + 1*zero_res)/total_proba\n",
    "    \n",
    "def fidelity_phi_minus(resultsZZ, resultsXX, resultsYY):\n",
    "    ps = [1, 1] #Post-selection depending on in-sequence measurements\n",
    "    F = (1+results_to_expectation(resultsZZ, ps)\n",
    "          -results_to_expectation(resultsXX, ps)\n",
    "          -results_to_expectation(resultsYY, ps))/4\n",
    "          #the YY minus is here because I forgot a complex i\n",
    "          #in the YY measurement, hence inverting value! \n",
    "    return F  \n",
    "\n",
    "def fidelity_phi_plus(resultsZZ, resultsXX, resultsYY):\n",
    "    ps = [0, 1] #Post-selection depending on in-sequence measurements\n",
    "    F = (1+results_to_expectation(resultsZZ, ps)\n",
    "          +results_to_expectation(resultsXX, ps)\n",
    "          +results_to_expectation(resultsYY, ps))/4\n",
    "    return F"
   ]
  },
  {
   "cell_type": "code",
   "execution_count": 113,
   "id": "2675cf2e",
   "metadata": {},
   "outputs": [
    {
     "data": {
      "text/plain": [
       "0.9903846153846154"
      ]
     },
     "execution_count": 113,
     "metadata": {},
     "output_type": "execute_result"
    }
   ],
   "source": [
    "fidelity_phi_plus(resultsZZ, resultsXX, resultsYY)"
   ]
  },
  {
   "cell_type": "code",
   "execution_count": 114,
   "id": "64775bce",
   "metadata": {},
   "outputs": [
    {
     "data": {
      "text/plain": [
       "0.937037037037037"
      ]
     },
     "execution_count": 114,
     "metadata": {},
     "output_type": "execute_result"
    }
   ],
   "source": [
    "fidelity_phi_minus(resultsZZ, resultsXX, resultsYY)"
   ]
  },
  {
   "cell_type": "markdown",
   "id": "fbc69a89",
   "metadata": {},
   "source": [
    "This is great (maybe surprisingly high)! Do notice we did not do any error correction in this two entangled state generation. We also artificially improved the fidelity of the state we got thanks to the post-selection we did. If we took results which had (0,0) or (1,0) in-sequence measurements, the final state would have had an error for sure, which would have decreased the fidelity!"
   ]
  },
  {
   "cell_type": "markdown",
   "id": "f60a5029",
   "metadata": {},
   "source": [
    "# Summary"
   ]
  },
  {
   "cell_type": "markdown",
   "id": "cffc8888",
   "metadata": {},
   "source": [
    "In this notebook, we explored a small version of surface code. We encoded logical information into it, and defined single qubit operations. We observed how the state decays and decoheres on real hardware, and how this can be mitigated in a simplified error correction scheme. Finally, we implemented one version of the lattice surgery technique so as to complete the capabilities of our logical qubit, allowing it to be entangled with other logical qubits. While interesting and insightful, the scheme needs to be extended to be able to correct all errors, and finally help achieve a fault-tolerant quantum computer."
   ]
  }
 ],
 "metadata": {
  "kernelspec": {
   "display_name": "Python 3 (ipykernel)",
   "language": "python",
   "name": "python3"
  },
  "language_info": {
   "codemirror_mode": {
    "name": "ipython",
    "version": 3
   },
   "file_extension": ".py",
   "mimetype": "text/x-python",
   "name": "python",
   "nbconvert_exporter": "python",
   "pygments_lexer": "ipython3",
   "version": "3.9.11"
  }
 },
 "nbformat": 4,
 "nbformat_minor": 5
}
