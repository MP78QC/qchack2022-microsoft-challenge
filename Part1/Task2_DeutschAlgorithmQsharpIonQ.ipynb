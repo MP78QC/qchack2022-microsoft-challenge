{
 "cells": [
  {
   "cell_type": "markdown",
   "metadata": {},
   "source": [
    "# Task 2: Run Deutsch Algorithm on IonQ Simulator\n",
    "\n",
    "*In this task, you are already given all the code you’ll need! You need to set up the Azure Quantum connection information and use it to run this code on the IonQ simulator target.*\n",
    "\n",
    "*To submit this task, update this notebook with the saved results of code cells execution and commit it in your challenge repository.*\n",
    "\n",
    "*This notebook is part IV of the [Exploring Deutsch-Jozsa Algorithm tutorial](https://github.com/microsoft/QuantumKatas/blob/main/tutorials/ExploringDeutschJozsaAlgorithm/AQ/DeutschJozsaAlgorithmTutorial_P4.ipynb) in the Quantum Katas.*"
   ]
  },
  {
   "cell_type": "markdown",
   "metadata": {},
   "source": [
    "## Define operations\n",
    "\n",
    "To start with, we'll define the operations that implement the oracles and the algorithms again; Q# notebooks can use operations defined in them or in .qs files in the same folder, but not in other notebooks."
   ]
  },
  {
   "cell_type": "code",
   "execution_count": 3,
   "metadata": {},
   "outputs": [
    {
     "data": {
      "application/x-qsharp-data": "[\"PhaseOracle_Zero\",\"PhaseOracle_X\",\"DeutschAlgorithm\"]",
      "text/html": [
       "<ul><li>PhaseOracle_Zero</li><li>PhaseOracle_X</li><li>DeutschAlgorithm</li></ul>"
      ],
      "text/plain": [
       "PhaseOracle_Zero, PhaseOracle_X, DeutschAlgorithm"
      ]
     },
     "execution_count": 3,
     "metadata": {},
     "output_type": "execute_result"
    }
   ],
   "source": [
    "// Phase oracles we'll use to demonstrate Deutsch algorithm\n",
    "operation PhaseOracle_Zero (x : Qubit) : Unit {\n",
    "    // Do nothing...\n",
    "}\n",
    "\n",
    "operation PhaseOracle_X (x : Qubit) : Unit {\n",
    "    Z(x);\n",
    "}\n",
    "\n",
    "operation DeutschAlgorithm (oracle : (Qubit => Unit)) : Result {\n",
    "    use x = Qubit();\n",
    "    H(x);\n",
    "    oracle(x);\n",
    "    H(x);\n",
    "    return M(x);\n",
    "}"
   ]
  },
  {
   "cell_type": "markdown",
   "metadata": {},
   "source": [
    "Note that we've modified the signature of the operation that implements Deutsch algorithm to return `Result` instead of `Bool`; `Zero` indicates a constant function and `One` - a balanced function. We'll see why we needed this change once we get to running the algorithm on hardware!\n",
    "\n",
    "After this, we need to define the wrapper operation that will call the Deutsch algorithm with the right oracle parameter depending on a string parameter.\n",
    "Q# notebooks allow to pass parameters of different types to operations executed via magics, but they cannot pass callables as parameters."
   ]
  },
  {
   "cell_type": "code",
   "execution_count": 4,
   "metadata": {},
   "outputs": [
    {
     "data": {
      "application/x-qsharp-data": "[\"DeutschAlgorithmWrapper\"]",
      "text/html": [
       "<ul><li>DeutschAlgorithmWrapper</li></ul>"
      ],
      "text/plain": [
       "DeutschAlgorithmWrapper"
      ]
     },
     "execution_count": 4,
     "metadata": {},
     "output_type": "execute_result"
    }
   ],
   "source": [
    "operation DeutschAlgorithmWrapper (oracleFunction : String) : Result {\n",
    "    Message($\"Running Deutsch algorithm for f(x) = {oracleFunction}\");\n",
    "    if oracleFunction == \"0\" {\n",
    "        return DeutschAlgorithm(PhaseOracle_Zero);\n",
    "    } elif oracleFunction == \"x\" {\n",
    "        return DeutschAlgorithm(PhaseOracle_X);\n",
    "    } else {\n",
    "        fail $\"Unknown function f(x) = {oracleFunction}\";\n",
    "    }\n",
    "}"
   ]
  },
  {
   "cell_type": "markdown",
   "metadata": {},
   "source": [
    "Let's run the algorithm on a simulator like we did before, to make sure we didn't introduce any unexpected behaviors (think of it as unit tests for your code!)"
   ]
  },
  {
   "cell_type": "code",
   "execution_count": 5,
   "metadata": {
    "scrolled": false
   },
   "outputs": [
    {
     "name": "stdout",
     "output_type": "stream",
     "text": [
      "Running Deutsch algorithm for f(x) = 0\r\n"
     ]
    },
    {
     "data": {
      "application/x-qsharp-data": "0",
      "text/plain": [
       "Zero"
      ]
     },
     "execution_count": 5,
     "metadata": {},
     "output_type": "execute_result"
    }
   ],
   "source": [
    "%simulate DeutschAlgorithmWrapper oracleFunction=0"
   ]
  },
  {
   "cell_type": "code",
   "execution_count": 6,
   "metadata": {
    "scrolled": false
   },
   "outputs": [
    {
     "name": "stdout",
     "output_type": "stream",
     "text": [
      "Running Deutsch algorithm for f(x) = x\r\n"
     ]
    },
    {
     "data": {
      "application/x-qsharp-data": "1",
      "text/plain": [
       "One"
      ]
     },
     "execution_count": 6,
     "metadata": {},
     "output_type": "execute_result"
    }
   ],
   "source": [
    "%simulate DeutschAlgorithmWrapper oracleFunction=x"
   ]
  },
  {
   "cell_type": "markdown",
   "metadata": {},
   "source": [
    "## Connect to Azure Quantum\n",
    "\n",
    "You need to substitute `<subscriptionId>`, `<resourceGroupId>`, `<workspaceId>`, and `<location>` in the connection string below with the parameter values from your own quantum workspace.\n",
    "You can learn how to create an Azure Quantum workspace in [this Microsoft Learn module](https://docs.microsoft.com/learn/modules/get-started-azure-quantum/3-create-quantum-workspace).\n",
    "(Executing this cell will open a new tab with a login prompt; return to the notebook once you log in.)"
   ]
  },
  {
   "cell_type": "code",
   "execution_count": 2,
   "metadata": {
    "tags": [
     "azure_quantum"
    ]
   },
   "outputs": [
    {
     "name": "stdout",
     "output_type": "stream",
     "text": [
      "Connected to Azure Quantum workspace qchack-2022-b in location eastus.\r\n"
     ]
    },
    {
     "data": {
      "application/x-qsharp-data": "[{\"id\":\"ionq.qpu\",\"current_availability\":{},\"average_queue_time\":136},{\"id\":\"ionq.simulator\",\"current_availability\":{},\"average_queue_time\":2},{\"id\":\"quantinuum.hqs-lt-s1\",\"current_availability\":{},\"average_queue_time\":0},{\"id\":\"quantinuum.hqs-lt-s1-apival\",\"current_availability\":{},\"average_queue_time\":0},{\"id\":\"quantinuum.hqs-lt-s2\",\"current_availability\":{},\"average_queue_time\":0},{\"id\":\"quantinuum.hqs-lt-s2-apival\",\"current_availability\":{},\"average_queue_time\":0},{\"id\":\"quantinuum.hqs-lt-s1-sim\",\"current_availability\":{},\"average_queue_time\":68},{\"id\":\"quantinuum.hqs-lt-s2-sim\",\"current_availability\":{},\"average_queue_time\":122},{\"id\":\"quantinuum.hqs-lt\",\"current_availability\":{},\"average_queue_time\":0}]",
      "text/html": [
       "<table><thead><tr><th style=\"text-align: start;\">Target ID</th><th style=\"text-align: start;\">Current Availability</th><th style=\"text-align: start;\">Average Queue Time (Seconds)</th></tr></thead><tbody><tr><td style=\"text-align: start;\">ionq.qpu</td><td style=\"text-align: start;\">Available</td><td style=\"text-align: start;\">136</td></tr><tr><td style=\"text-align: start;\">ionq.simulator</td><td style=\"text-align: start;\">Available</td><td style=\"text-align: start;\">2</td></tr><tr><td style=\"text-align: start;\">quantinuum.hqs-lt-s1</td><td style=\"text-align: start;\">Unavailable</td><td style=\"text-align: start;\">0</td></tr><tr><td style=\"text-align: start;\">quantinuum.hqs-lt-s1-apival</td><td style=\"text-align: start;\">Available</td><td style=\"text-align: start;\">0</td></tr><tr><td style=\"text-align: start;\">quantinuum.hqs-lt-s2</td><td style=\"text-align: start;\">Unavailable</td><td style=\"text-align: start;\">0</td></tr><tr><td style=\"text-align: start;\">quantinuum.hqs-lt-s2-apival</td><td style=\"text-align: start;\">Available</td><td style=\"text-align: start;\">0</td></tr><tr><td style=\"text-align: start;\">quantinuum.hqs-lt-s1-sim</td><td style=\"text-align: start;\">Available</td><td style=\"text-align: start;\">68</td></tr><tr><td style=\"text-align: start;\">quantinuum.hqs-lt-s2-sim</td><td style=\"text-align: start;\">Available</td><td style=\"text-align: start;\">122</td></tr><tr><td style=\"text-align: start;\">quantinuum.hqs-lt</td><td style=\"text-align: start;\">Unavailable</td><td style=\"text-align: start;\">0</td></tr></tbody></table>"
      ],
      "text/plain": [
       "Target ID                   Current Availability Average Queue Time (Seconds)\r\n",
       "--------------------------- ----------- ---\r\n",
       "ionq.qpu                    Available   136\r\n",
       "ionq.simulator              Available   2\r\n",
       "quantinuum.hqs-lt-s1        Unavailable 0\r\n",
       "quantinuum.hqs-lt-s1-apival Available   0\r\n",
       "quantinuum.hqs-lt-s2        Unavailable 0\r\n",
       "quantinuum.hqs-lt-s2-apival Available   0\r\n",
       "quantinuum.hqs-lt-s1-sim    Available   68\r\n",
       "quantinuum.hqs-lt-s2-sim    Available   122\r\n",
       "quantinuum.hqs-lt           Unavailable 0\r\n"
      ]
     },
     "execution_count": 2,
     "metadata": {},
     "output_type": "execute_result"
    }
   ],
   "source": [
    "%azure.connect \"/subscriptions/b0c3bbe3-7123-4ba4-9aa2-57d9845f4a1d/resourceGroups/AzureQuantum/providers/Microsoft.Quantum/Workspaces/qchack-2022-b\" location=\"eastus\""
   ]
  },
  {
   "cell_type": "markdown",
   "metadata": {},
   "source": [
    "The `%azure.connect` magic outputs the list of targets available in your subscription. \n",
    "If you added IonQ as the provider to your workspace, you'll get `ionq.simulator` (the classical simulator of a quantum device) and `ionq.qpu` (the actual quantum device).\n",
    "Let's submit a job for the simulator first; we'll need to choose the target using the `%azure.target` magic command."
   ]
  },
  {
   "cell_type": "code",
   "execution_count": 7,
   "metadata": {
    "scrolled": true,
    "tags": [
     "azure_quantum"
    ]
   },
   "outputs": [
    {
     "name": "stdout",
     "output_type": "stream",
     "text": [
      "Loading package Microsoft.Quantum.Providers.IonQ and dependencies...\n",
      "Active target is now ionq.simulator\n"
     ]
    },
    {
     "data": {
      "application/x-qsharp-data": "{\"id\":\"ionq.simulator\",\"current_availability\":{},\"average_queue_time\":2}",
      "text/html": [
       "<table><thead><tr><th style=\"text-align: start;\">Target ID</th><th style=\"text-align: start;\">Current Availability</th><th style=\"text-align: start;\">Average Queue Time (Seconds)</th></tr></thead><tbody><tr><td style=\"text-align: start;\">ionq.simulator</td><td style=\"text-align: start;\">Available</td><td style=\"text-align: start;\">2</td></tr></tbody></table>"
      ],
      "text/plain": [
       "Target ID      Current Availability Average Queue Time (Seconds)\r\n",
       "-------------- --------- -\r\n",
       "ionq.simulator Available 2\r\n"
      ]
     },
     "execution_count": 7,
     "metadata": {},
     "output_type": "execute_result"
    }
   ],
   "source": [
    "%azure.target ionq.simulator"
   ]
  },
  {
   "cell_type": "markdown",
   "metadata": {},
   "source": [
    "Now, you can submit a job to the current target using the `%azure.submit` magic command which takes the same parameters as the `%simulate` magic command used earlier.\n",
    "\n",
    "When you run this cell, you'll get a job id in return. You'll use this id for looking up the job status, either via the `%azure.status` command or via Azure Portal, and for retrieving job results."
   ]
  },
  {
   "cell_type": "code",
   "execution_count": 8,
   "metadata": {
    "scrolled": false,
    "tags": [
     "azure_quantum"
    ]
   },
   "outputs": [
    {
     "name": "stdout",
     "output_type": "stream",
     "text": [
      "Submitting DeutschAlgorithmWrapper to target ionq.simulator...\n",
      "Job successfully submitted for 500 shots.\n",
      "   Job name: DeutschAlgorithmWrapper\n",
      "   Job ID: ba64e2bd-b271-4b86-ab56-2e7dbea51dc1\n"
     ]
    },
    {
     "data": {
      "application/x-qsharp-data": "{\"id\":\"ba64e2bd-b271-4b86-ab56-2e7dbea51dc1\",\"name\":\"DeutschAlgorithmWrapper\",\"status\":\"Waiting\",\"uri\":\"https://portal.azure.com/#@microsoft.onmicrosoft.com/resource/subscriptions/b0c3bbe3-7123-4ba4-9aa2-57d9845f4a1d/resourceGroups/AzureQuantum/providers/Microsoft.Quantum/Workspaces/qchack-2022-b/job_management?microsoft_azure_quantum_jobid=ba64e2bd-b271-4b86-ab56-2e7dbea51dc1\",\"provider\":\"ionq\",\"target\":\"ionq.simulator\",\"creation_time\":\"2022-04-09T15:16:47.6946599+00:00\",\"begin_execution_time\":null,\"end_execution_time\":null,\"cost_estimate\":\"\"}",
      "text/html": [
       "<table><thead><tr><th style=\"text-align: start;\">Job Name</th><th style=\"text-align: start;\">Job ID</th><th style=\"text-align: start;\">Job Status</th><th style=\"text-align: start;\">Target</th><th style=\"text-align: start;\">Creation Time</th><th style=\"text-align: start;\">Begin Execution Time</th><th style=\"text-align: start;\">End Execution Time</th><th style=\"text-align: start;\">Cost Estimate</th></tr></thead><tbody><tr><td style=\"text-align: start;\">DeutschAlgorithmWrapper</td><td style=\"text-align: start;\"><a href=\"https://portal.azure.com/#@microsoft.onmicrosoft.com/resource/subscriptions/b0c3bbe3-7123-4ba4-9aa2-57d9845f4a1d/resourceGroups/AzureQuantum/providers/Microsoft.Quantum/Workspaces/qchack-2022-b/job_management?microsoft_azure_quantum_jobid=ba64e2bd-b271-4b86-ab56-2e7dbea51dc1\" target=\"_blank\">ba64e2bd-b271-4b86-ab56-2e7dbea51dc1</a></td><td style=\"text-align: start;\">Waiting</td><td style=\"text-align: start;\">ionq.simulator</td><td style=\"text-align: start;\">09/04/2022 15:16:47 +00:00</td><td style=\"text-align: start;\"></td><td style=\"text-align: start;\"></td><td style=\"text-align: start;\"></td></tr></tbody></table>"
      ],
      "text/plain": [
       "Job Name                Job ID                                                                                                                                                                                                                                                                                                                                                 Job Status Target         Creation Time              Begin Execution Time End Execution Time Cost Estimate\r\n",
       "----------------------- ------------------------------------------------------------------------------------------------------------------------------------------------------------------------------------------------------------------------------------------------------------------------------------------------------------------------------------------------------ ------- -------------- --------------------------\r\n",
       "DeutschAlgorithmWrapper <a href=\"https://portal.azure.com/#@microsoft.onmicrosoft.com/resource/subscriptions/b0c3bbe3-7123-4ba4-9aa2-57d9845f4a1d/resourceGroups/AzureQuantum/providers/Microsoft.Quantum/Workspaces/qchack-2022-b/job_management?microsoft_azure_quantum_jobid=ba64e2bd-b271-4b86-ab56-2e7dbea51dc1\" target=\"_blank\">ba64e2bd-b271-4b86-ab56-2e7dbea51dc1</a> Waiting ionq.simulator 09/04/2022 15:16:47 +00:00\r\n"
      ]
     },
     "execution_count": 8,
     "metadata": {},
     "output_type": "execute_result"
    }
   ],
   "source": [
    "%azure.submit DeutschAlgorithmWrapper oracleFunction=0"
   ]
  },
  {
   "cell_type": "markdown",
   "metadata": {},
   "source": [
    "Running `%azure.status` without any arguments will fetch the status of the latest job executed in this notebook; if you need to look up an earlier job, you can use its id as a parameter."
   ]
  },
  {
   "cell_type": "code",
   "execution_count": 11,
   "metadata": {
    "scrolled": false,
    "tags": [
     "azure_quantum"
    ]
   },
   "outputs": [
    {
     "data": {
      "application/x-qsharp-data": "{\"id\":\"ba64e2bd-b271-4b86-ab56-2e7dbea51dc1\",\"name\":\"DeutschAlgorithmWrapper\",\"status\":\"Succeeded\",\"uri\":\"https://portal.azure.com/#@microsoft.onmicrosoft.com/resource/subscriptions/b0c3bbe3-7123-4ba4-9aa2-57d9845f4a1d/resourceGroups/AzureQuantum/providers/Microsoft.Quantum/Workspaces/qchack-2022-b/job_management?microsoft_azure_quantum_jobid=ba64e2bd-b271-4b86-ab56-2e7dbea51dc1\",\"provider\":\"ionq\",\"target\":\"ionq.simulator\",\"creation_time\":\"2022-04-09T15:16:47.6946599+00:00\",\"begin_execution_time\":\"2022-04-09T15:17:21.414+00:00\",\"end_execution_time\":\"2022-04-09T15:17:21.441+00:00\",\"cost_estimate\":\"$0.00\"}",
      "text/html": [
       "<table><thead><tr><th style=\"text-align: start;\">Job Name</th><th style=\"text-align: start;\">Job ID</th><th style=\"text-align: start;\">Job Status</th><th style=\"text-align: start;\">Target</th><th style=\"text-align: start;\">Creation Time</th><th style=\"text-align: start;\">Begin Execution Time</th><th style=\"text-align: start;\">End Execution Time</th><th style=\"text-align: start;\">Cost Estimate</th></tr></thead><tbody><tr><td style=\"text-align: start;\">DeutschAlgorithmWrapper</td><td style=\"text-align: start;\"><a href=\"https://portal.azure.com/#@microsoft.onmicrosoft.com/resource/subscriptions/b0c3bbe3-7123-4ba4-9aa2-57d9845f4a1d/resourceGroups/AzureQuantum/providers/Microsoft.Quantum/Workspaces/qchack-2022-b/job_management?microsoft_azure_quantum_jobid=ba64e2bd-b271-4b86-ab56-2e7dbea51dc1\" target=\"_blank\">ba64e2bd-b271-4b86-ab56-2e7dbea51dc1</a></td><td style=\"text-align: start;\">Succeeded</td><td style=\"text-align: start;\">ionq.simulator</td><td style=\"text-align: start;\">09/04/2022 15:16:47 +00:00</td><td style=\"text-align: start;\">09/04/2022 15:17:21 +00:00</td><td style=\"text-align: start;\">09/04/2022 15:17:21 +00:00</td><td style=\"text-align: start;\">$0.00</td></tr></tbody></table>"
      ],
      "text/plain": [
       "Job Name                Job ID                                                                                                                                                                                                                                                                                                                                                 Job Status Target         Creation Time              Begin Execution Time       End Execution Time         Cost Estimate\r\n",
       "----------------------- ------------------------------------------------------------------------------------------------------------------------------------------------------------------------------------------------------------------------------------------------------------------------------------------------------------------------------------------------------ --------- -------------- -------------------------- -------------------------- -------------------------- -----\r\n",
       "DeutschAlgorithmWrapper <a href=\"https://portal.azure.com/#@microsoft.onmicrosoft.com/resource/subscriptions/b0c3bbe3-7123-4ba4-9aa2-57d9845f4a1d/resourceGroups/AzureQuantum/providers/Microsoft.Quantum/Workspaces/qchack-2022-b/job_management?microsoft_azure_quantum_jobid=ba64e2bd-b271-4b86-ab56-2e7dbea51dc1\" target=\"_blank\">ba64e2bd-b271-4b86-ab56-2e7dbea51dc1</a> Succeeded ionq.simulator 09/04/2022 15:16:47 +00:00 09/04/2022 15:17:21 +00:00 09/04/2022 15:17:21 +00:00 $0.00\r\n"
      ]
     },
     "execution_count": 11,
     "metadata": {},
     "output_type": "execute_result"
    }
   ],
   "source": [
    "%azure.status"
   ]
  },
  {
   "cell_type": "markdown",
   "metadata": {},
   "source": [
    "Similarly, running `%azure.output` without any arguments will fetch the results of the latest job executed in this notebook; if you need to look up an earlier job, you can use its id as a parameter."
   ]
  },
  {
   "cell_type": "code",
   "execution_count": 12,
   "metadata": {
    "tags": [
     "azure_quantum"
    ]
   },
   "outputs": [
    {
     "data": {
      "application/x-qsharp-data": "{\"0\":1.0}",
      "text/html": [
       "\r\n",
       "                    <table style=\"table-layout: fixed; width: 100%\">\r\n",
       "                        <thead>\r\n",
       "                            <tr>\r\n",
       "                                <th style=\"text-align: left; width: 25ch\">Result</th>\r\n",
       "                                <th style=\"text-align: left; width: 25ch\">Frequency</th>\r\n",
       "                                <th style=\"text-align: left; width: calc(100% - 25ch - 25ch)\">Histogram</th>\r\n",
       "                            </tr>\r\n",
       "                        </thead>\r\n",
       "                        <tbody>\r\n",
       "                            \r\n",
       "                            <tr>\r\n",
       "                                <td style=\"text-align: left; width: 25ch\">0</td>\r\n",
       "                                <td style=\"text-align: left; width: 25ch\">1</td>\r\n",
       "                                <td style=\"text-align: left; width: calc(100% - 25ch - 25ch)\">\r\n",
       "                                    <progress\r\n",
       "                                        max=\"100\"\r\n",
       "                                        value=\"100\"\r\n",
       "                                        style=\"width: 100%;\"\r\n",
       "                                    >\r\n",
       "                                </td>\r\n",
       "                            </tr>\r\n",
       "                        \r\n",
       "                        </tbody>\r\n",
       "                    </table>\r\n",
       "                "
      ],
      "text/plain": [
       "Result Frequency\r\n",
       "- -\r\n",
       "0 1\r\n"
      ]
     },
     "execution_count": 12,
     "metadata": {},
     "output_type": "execute_result"
    }
   ],
   "source": [
    "%azure.output"
   ]
  },
  {
   "cell_type": "markdown",
   "metadata": {},
   "source": [
    "The format of job execution results differs from the results produced by the local simulator; instead of a single run result, you get a histogram of results of multiple job runs (\"shots\").\n",
    "In this case, though, the job we run produces a deterministic result, and in the absence of noise the histogram consists of a single entry.\n",
    "If you run the same job on quantum hardware without error correction, or on a noisy simulator, you'll get a distribution of multiple results, and will need to analyze the data to figure out the right answer."
   ]
  }
 ],
 "metadata": {
  "kernelspec": {
   "display_name": "Q#",
   "language": "qsharp",
   "name": "iqsharp"
  },
  "language_info": {
   "file_extension": ".qs",
   "mimetype": "text/x-qsharp",
   "name": "qsharp",
   "version": "0.14"
  }
 },
 "nbformat": 4,
 "nbformat_minor": 2
}
