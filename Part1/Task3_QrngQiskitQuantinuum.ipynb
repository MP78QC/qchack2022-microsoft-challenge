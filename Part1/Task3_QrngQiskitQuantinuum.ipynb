{
  "cells": [
    {
      "cell_type": "markdown",
      "source": [
        "# Task 3: Run Quantum Random Number Generator on Quantinuum Emulator\n",
        "\n",
        "*In this task, you are already given all the code you’ll need! You need to set up the Azure Quantum connection information and use it to run this code on the Quantinuum emulator target.*\n",
        "\n",
        "*To submit this task, update this notebook with the saved results of code cells execution and commit it in your challenge repository.*"
      ],
      "metadata": {},
      "id": "d782eb4c"
    },
    {
      "cell_type": "markdown",
      "source": [
        "## Submit a simple job to Quantinuum using Azure Quantum\n",
        "Azure Quantum provides several ways to express quantum programs. In this example we are using [Qiskit](https://qiskit.org/), but note that Q# and Cirq are also supported. All code in this example will be written in Python.\n",
        "\n",
        "Let's begin. When you see a code block, hover over it and click the triangle play-button to execute it. To avoid any compilation issues, this should be done in order from top to bottom."
      ],
      "metadata": {
        "nteract": {
          "transient": {
            "deleting": false
          }
        }
      },
      "id": "25683ebc"
    },
    {
      "cell_type": "markdown",
      "source": [
        "### 1. Connect to the Azure Quantum workspace\n",
        "\n",
        "To connect to the Azure Quantum service, construct an instance of the `AzureQuantumProvider`. Note that it's imported from `azure.quantum.qiskit`.\n",
        "\n",
        "You need to substitute `<subscriptionId>`, `<resourceGroupId>`, `<workspaceId>`, and `<location>` in the connection string below with the parameter values from your own quantum workspace.\n",
        "You can learn how to create an Azure Quantum workspace in [this Microsoft Learn module](https://docs.microsoft.com/learn/modules/get-started-azure-quantum/3-create-quantum-workspace).\n",
        "(Executing this cell will open a new tab with a login prompt; return to the notebook once you log in.)"
      ],
      "metadata": {
        "nteract": {
          "transient": {
            "deleting": false
          }
        }
      },
      "id": "8cd670ca"
    },
    {
      "cell_type": "code",
      "source": [
        "from azure.quantum.qiskit import AzureQuantumProvider\n",
        "provider = AzureQuantumProvider (\n",
        "    resource_id = \"/subscriptions/b0c3bbe3-7123-4ba4-9aa2-57d9845f4a1d/resourceGroups/AzureQuantum/providers/Microsoft.Quantum/Workspaces/qchack-2022-b\",\n",
        "    location = \"eastus\"\n",
        ")"
      ],
      "outputs": [],
      "execution_count": 1,
      "metadata": {},
      "id": "778c85a8"
    },
    {
      "cell_type": "markdown",
      "source": [
        "Let's see what providers and targets are enabled in this workspace with the following command:"
      ],
      "metadata": {
        "nteract": {
          "transient": {
            "deleting": false
          }
        }
      },
      "id": "3fcda8f7"
    },
    {
      "cell_type": "code",
      "source": [
        "from qiskit import QuantumCircuit\n",
        "from qiskit.visualization import plot_histogram\n",
        "from qiskit.tools.monitor import job_monitor\n",
        "\n",
        "print(\"This workspace's targets:\")\n",
        "for backend in provider.backends():\n",
        "    print(\"- \" + backend.name())"
      ],
      "outputs": [
        {
          "output_type": "stream",
          "name": "stdout",
          "text": "This workspace's targets:\n- ionq.qpu\n- ionq.simulator\n- quantinuum.hqs-lt-s1\n- quantinuum.hqs-lt-s1-apival\n- quantinuum.hqs-lt-s2\n- quantinuum.hqs-lt-s2-apival\n- quantinuum.hqs-lt-s1-sim\n- quantinuum.hqs-lt-s2-sim\n"
        }
      ],
      "execution_count": 2,
      "metadata": {
        "jupyter": {
          "outputs_hidden": false,
          "source_hidden": false
        },
        "nteract": {
          "transient": {
            "deleting": false
          }
        }
      },
      "id": "15824bdf"
    },
    {
      "cell_type": "markdown",
      "source": [
        "### ❕ Do you see `quantinuum.hqs-lt-s2-apival` in your list of targets? If so, you're ready to keep going.\n",
        "\n",
        "## Quantinuum: The quantum provider\n",
        "Azure Quantum partners with third-party companies to deliver solutions to quantum jobs. These company offerings are called *providers*. Each provider can offer multiple *targets* with different capabilities. See the table below for Quantinuum's H1-2 device targets.\n",
        "\n",
        "| Target name | Target ID | Number of qubits | Description|\n",
        "| --- | ---| ---|---|\n",
        "H1-2 API Validator | `quantinuum.hqs-lt-s2-apival` | 12 | Quantinuum's H1-2 Syntax Checker. Use this to validate quantum programs before submitting to hardware or emulation on Quantinuum's platform and check a quantum circuit's cost in H-Series Quantum Credits (HQCs). Free of cost. |\n",
        "H1-2 Emulator | `quantinuum.hqs-lt-s2-sim` | 12 | Quantinuum's H1-2 emulator. Uses a realistic physical model and noise model that is consistent with the Quantinuum H1 hardware offering. |\n",
        "H1-2 | `quantinuum.hqs-lt-s2` | 12 | Quantinuum's H1-2 trapped ion device. |\n",
        "\n",
        "To start, we will use `quantinuum.hqs-lt-s2-apival` to avoid any costs or credit usage. To learn more about Quantinuum's targets, check out our [documentation](https://aka.ms/AQ/Quantinuum/Documentation)."
      ],
      "metadata": {
        "nteract": {
          "transient": {
            "deleting": false
          }
        }
      },
      "id": "7bcf168d"
    },
    {
      "cell_type": "markdown",
      "source": [
        "### 2. Build the quantum program\n",
        "\n",
        "Let's create a simple Qiskit circuit to run."
      ],
      "metadata": {},
      "id": "93264d59"
    },
    {
      "cell_type": "code",
      "source": [
        "# Create a quantum circuit acting on a single qubit\n",
        "circuit = QuantumCircuit(1,1)\n",
        "circuit.name = \"Single qubit random\"\n",
        "circuit.h(0)\n",
        "circuit.measure(0, 0)\n",
        "\n",
        "# Print out the circuit\n",
        "circuit.draw()"
      ],
      "outputs": [
        {
          "output_type": "execute_result",
          "execution_count": 3,
          "data": {
            "text/plain": "     ┌───┐┌─┐\n  q: ┤ H ├┤M├\n     └───┘└╥┘\nc: 1/══════╩═\n           0 ",
            "text/html": "<pre style=\"word-wrap: normal;white-space: pre;background: #fff0;line-height: 1.1;font-family: &quot;Courier New&quot;,Courier,monospace\">     ┌───┐┌─┐\n  q: ┤ H ├┤M├\n     └───┘└╥┘\nc: 1/══════╩═\n           0 </pre>"
          },
          "metadata": {}
        }
      ],
      "execution_count": 3,
      "metadata": {},
      "id": "e4287766"
    },
    {
      "cell_type": "markdown",
      "source": [
        "The circuit you built is a simple quantum random bit generator. With Quantinuum's API validator, we will be able to confirm that the circuit is able to be run on the Quantinuum H1-2 emulator and hardware."
      ],
      "metadata": {
        "nteract": {
          "transient": {
            "deleting": false
          }
        }
      },
      "id": "96ff7109"
    },
    {
      "cell_type": "markdown",
      "source": [
        "### 3. Submit the quantum program to Quantinuum"
      ],
      "metadata": {},
      "id": "01d940ca"
    },
    {
      "cell_type": "code",
      "source": [
        "# Create an object that represents Quantinuum's API validator target, \"quantinuum.hqs-lt-s2-apival\".\n",
        "#   Note that any target you have enabled in this workspace can\n",
        "#   be used here. Azure Quantum makes it extremely easy to submit\n",
        "#   the same quantum program to different providers. \n",
        "quantinuum_api_val_backend = provider.get_backend(\"quantinuum.hqs-lt-s2-apival\")\n",
        "\n",
        "# Using the Quantinuum target, call \"run\" to submit the job. We'll\n",
        "# use a count of 100 (simulated runs).\n",
        "job_api_val = quantinuum_api_val_backend.run(circuit, count=100)\n",
        "print(\"Job id:\", job_api_val.id())"
      ],
      "outputs": [
        {
          "output_type": "stream",
          "name": "stdout",
          "text": "Job id: 408c33c8-b818-11ec-95ba-00155d5a5c80\n"
        }
      ],
      "execution_count": 4,
      "metadata": {},
      "id": "b55a1db4"
    },
    {
      "cell_type": "markdown",
      "source": [
        "The job ID can be used to retrieve the results later using the [get_details function](https://docs.microsoft.com/en-us/azure/quantum/optimization-job-reference#jobdetails) or by viewing it under the **Job management** section of the portal."
      ],
      "metadata": {
        "nteract": {
          "transient": {
            "deleting": false
          }
        }
      },
      "id": "c5206d91"
    },
    {
      "cell_type": "markdown",
      "source": [
        "### 4. Obtain the job results\n",
        "You can monitor the job status with Qiskit's `job_monitor` function.\n",
        "\n",
        "This may take a minute or so ⏳. Your job will be packaged and sent to Quantinuum, where it will wait its turn to be run. You'll see your job go through these stages: \"job is queued\" &rarr; \"job is actively running\" &rarr; \"job has successfully run.\""
      ],
      "metadata": {
        "nteract": {
          "transient": {
            "deleting": false
          }
        }
      },
      "id": "b3556a16"
    },
    {
      "cell_type": "code",
      "source": [
        "job_monitor(job_api_val)\n",
        "\n",
        "result_api_val = job_api_val.result()\n",
        "\n",
        "# The result object is native to the Qiskit package, so we can use Qiskit's tools to print the result as a histogram.\n",
        "# For API validation, we expect to see all zeroes.\n",
        "plot_histogram(result_api_val.get_counts(circuit), title=\"Result\", number_to_keep=2)"
      ],
      "outputs": [
        {
          "output_type": "stream",
          "name": "stdout",
          "text": "Job Status: job has successfully run\n"
        },
        {
          "output_type": "execute_result",
          "execution_count": 5,
          "data": {
            "text/plain": "<Figure size 504x360 with 1 Axes>",
            "image/png": "[encoded data removed]"
          },
          "metadata": {}
        }
      ],
      "execution_count": 5,
      "metadata": {},
      "id": "c959ecb2"
    },
    {
      "cell_type": "markdown",
      "source": [
        "**See the histogram above? Congratulations, you've submitted a job with Azure Quantum! 👏**\n"
      ],
      "metadata": {
        "nteract": {
          "transient": {
            "deleting": false
          }
        }
      },
      "id": "f8f90d8c"
    },
    {
      "cell_type": "markdown",
      "source": [
        "### 5. Estimate costs\n",
        "\n",
        "To estimate the costs of running this program on the emulator, you can use the `backend.estimate_cost` method."
      ],
      "metadata": {},
      "id": "f2905eb3"
    },
    {
      "cell_type": "code",
      "source": [
        "# Create an object that represents Quantinuum's API emulator target, \"quantinuum.hqs-lt-s2-sim\".\n",
        "quantinuum_sim_backend = provider.get_backend(\"quantinuum.hqs-lt-s2-sim\")\n",
        "cost = quantinuum_sim_backend.estimate_cost(circuit, shots=100)\n",
        "print(f\"Estimated cost: {cost.estimated_total} {cost.currency_code}\")"
      ],
      "outputs": [
        {
          "output_type": "stream",
          "name": "stdout",
          "text": "Estimated cost: 5.12 EHQC\n"
        }
      ],
      "execution_count": 6,
      "metadata": {},
      "id": "cdf1f1de"
    },
    {
      "cell_type": "markdown",
      "source": [
        "### 6. Submit the job to the emulator\n",
        "\n",
        "Next, run the same program on Quantinuum's H1-2 emulation targets. Just replace `quantinuum.hqs-lt-s2-apival` with `quantinuum.hqs-lt-s2-sim`.\n",
        "\n",
        "To learn more about submitting Qiskit circuits to Azure Quantum, review [this documentation](https://docs.microsoft.com/azure/quantum/quickstart-microsoft-qiskit?pivots=platform-quantinuum)."
      ],
      "metadata": {
        "nteract": {
          "transient": {
            "deleting": false
          }
        }
      },
      "id": "48a17584"
    },
    {
      "cell_type": "code",
      "source": [
        "# Using the Quantinuum target target, call \"run\" to submit the job. We'll\n",
        "# use a count of 100 (simulated runs).\n",
        "job_sim = quantinuum_sim_backend.run(circuit, count=100)\n",
        "print(\"Job id:\", job_sim.id())"
      ],
      "outputs": [
        {
          "output_type": "stream",
          "name": "stdout",
          "text": "Job id: 48e50b58-b818-11ec-95ba-00155d5a5c80\n"
        }
      ],
      "execution_count": 7,
      "metadata": {},
      "id": "ecea3899"
    },
    {
      "cell_type": "code",
      "source": [
        "job_monitor(job_sim)\n",
        "\n",
        "result_sim = job_sim.result()\n",
        "\n",
        "# The result object is native to the Qiskit package, so we can use Qiskit's tools to print the result as a histogram.\n",
        "# For running on an emulator, we expect to see random bits generated.\n",
        "plot_histogram(result_sim.get_counts(circuit), title=\"Result\")"
      ],
      "outputs": [
        {
          "output_type": "stream",
          "name": "stdout",
          "text": "Job Status: job has successfully run\n"
        },
        {
          "output_type": "execute_result",
          "execution_count": 8,
          "data": {
            "text/plain": "<Figure size 504x360 with 1 Axes>",
            "image/png": "[encoded data removed]"
          },
          "metadata": {}
        }
      ],
      "execution_count": 8,
      "metadata": {},
      "id": "385efb88"
    }
  ],
  "metadata": {
    "kernel_info": {
      "name": "python3"
    },
    "kernelspec": {
      "name": "python3",
      "language": "python",
      "display_name": "Python 3 (ipykernel)"
    },
    "language_info": {
      "name": "python",
      "version": "3.7.13",
      "mimetype": "text/x-python",
      "codemirror_mode": {
        "name": "ipython",
        "version": 3
      },
      "pygments_lexer": "ipython3",
      "nbconvert_exporter": "python",
      "file_extension": ".py"
    },
    "nteract": {
      "version": "nteract-front-end@1.0.0"
    }
  },
  "nbformat": 4,
  "nbformat_minor": 5
}