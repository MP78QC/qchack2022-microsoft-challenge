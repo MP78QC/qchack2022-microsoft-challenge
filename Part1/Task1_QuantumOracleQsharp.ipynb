{
 "cells": [
  {
   "cell_type": "markdown",
   "metadata": {},
   "source": [
    "# Task 1: Implement a Quantum Oracle\n",
    "\n",
    "*In this task, you should implement your solution in Q# in the first cell of the notebook. The rest of the cells contain the testing harness used to verify your solution. You can use them when working on your solution, but any modifications to them will not be evaluated.*\n",
    "\n",
    "*To submit this task, update this notebook with your solution code in the first cell and commit it in your challenge repository. You don't need to modify anything else in the notebook, or save cell execution results (unlike in the later tasks!)*"
   ]
  },
  {
   "cell_type": "markdown",
   "metadata": {},
   "source": [
    "### <span style=\"color:blue\">Task 1</span>: Implement a quantum oracle\n",
    "\n",
    "**Inputs:**\n",
    "\n",
    "  1. $N$ qubits in an arbitrary state $|x\\rangle$ (input/query register)\n",
    "    \n",
    "  2. A qubit in an arbitrary state $|y\\rangle$ (target qubit)\n",
    "\n",
    "**Goal:**\n",
    "\n",
    "Implement a marking oracle for function $f(x) = 1\\text{ if x modulo 4 is 0 or 3}$.\n",
    "\n",
    "That is, if both inputs are in a basis state, flip the state of the output qubit \n",
    "if and only if the number written in the array \"x\" modulo 4 equals 0 or 3,\n",
    "and leave the state of the array \"inputs\" unchanged.\n",
    "The effect of the oracle on superposition states should be defined by its linearity.\n",
    "\n",
    "The array \"inputs\" uses little-endian encoding, i.e., the least significant bit of the integer is stored first.\n",
    "\n",
    "Don't use measurements; the implementation should use only X and controlled X gates.\n",
    "This task will be tested using ToffoliSimulator.\n",
    "\n",
    "**Example:**\n",
    "\n",
    "The result of applying the oracle to a state \n",
    "$$\\frac1{\\sqrt3}\\big(|001\\rangle + |100\\rangle + |111\\rangle\\big) \\otimes |0\\rangle$$\n",
    "will be \n",
    "$$\\frac1{\\sqrt3}\\big(|001\\rangle \\otimes |1\\rangle + |100\\rangle \\otimes |0\\rangle + |111\\rangle \\otimes |1\\rangle\\big)$$"
   ]
  },
  {
   "cell_type": "code",
   "execution_count": 1,
   "metadata": {},
   "outputs": [
    {
     "data": {
      "application/x-qsharp-data": "[\"Task1\"]",
      "text/html": [
       "<ul><li>Task1</li></ul>"
      ],
      "text/plain": [
       "Task1"
      ]
     },
     "execution_count": 1,
     "metadata": {},
     "output_type": "execute_result"
    }
   ],
   "source": [
    "operation Task1 (x : Qubit[], y : Qubit) : Unit is Adj + Ctl {\n",
    "    X(y);\n",
    "    CNOT(x[0], y);\n",
    "    CNOT(x[1], y);\n",
    "}"
   ]
  },
  {
   "cell_type": "markdown",
   "metadata": {},
   "source": [
    "### <span style=\"color:blue\">Testing Harness</span>\n",
    "\n",
    "*To test your solution, execute the second and the third code cells. The third cell will produce the test result - a message \"Success!\" if your solution is correct, or an error message explaining the test case on which it fails.*\n",
    "\n",
    "*You need to re-run all the cells every time you update your solution - otherwise you'll be testing the old version of your solution!*"
   ]
  },
  {
   "cell_type": "code",
   "execution_count": 2,
   "metadata": {},
   "outputs": [
    {
     "data": {
      "application/x-qsharp-data": "[\"VerifySingleOutputFunction\",\"Is03ModFour\",\"TestIs03ModFour\"]",
      "text/html": [
       "<ul><li>VerifySingleOutputFunction</li><li>Is03ModFour</li><li>TestIs03ModFour</li></ul>"
      ],
      "text/plain": [
       "VerifySingleOutputFunction, Is03ModFour, TestIs03ModFour"
      ]
     },
     "execution_count": 2,
     "metadata": {},
     "output_type": "execute_result"
    }
   ],
   "source": [
    "open Microsoft.Quantum.Arithmetic;\n",
    "open Microsoft.Quantum.Convert;\n",
    "open Microsoft.Quantum.Diagnostics;\n",
    "open Microsoft.Quantum.Measurement;\n",
    "\n",
    "operation VerifySingleOutputFunction(\n",
    "    numInputs : Int, \n",
    "    op : (Qubit[], Qubit) => Unit is Adj+Ctl, \n",
    "    predicate : Int -> Bool\n",
    ") : Unit {\n",
    "    for assignment in 0 .. 2^numInputs - 1 {\n",
    "        use (inputs, output) = (Qubit[numInputs], Qubit());\n",
    "        within {\n",
    "            ApplyXorInPlace(assignment, LittleEndian(inputs));\n",
    "            AllowAtMostNCallsCA(0, Measure, \"You are not allowed to use measurements\");\n",
    "        } apply {\n",
    "            op(inputs, output);\n",
    "        }\n",
    "\n",
    "        // Check that the result is expected\n",
    "        let actual = ResultAsBool(MResetZ(output));\n",
    "        let expected = predicate(assignment);\n",
    "        Fact(actual == expected,\n",
    "            $\"Oracle evaluation result {actual} does not match expected {expected} for assignment {IntAsBoolArray(assignment, numInputs)}\");\n",
    "\n",
    "        // Check that the inputs were not modified\n",
    "        Fact(MeasureInteger(LittleEndian(inputs)) == 0, \n",
    "            $\"The input states were modified for assignment {assignment}\");\n",
    "    }\n",
    "}\n",
    "\n",
    "\n",
    "// ------------------------------------------------------\n",
    "function Is03ModFour (input : Int) : Bool {\n",
    "    return input % 4 == 0 or input % 4 == 3;\n",
    "}\n",
    "\n",
    "// ------------------------------------------------------\n",
    "operation TestIs03ModFour() : Unit {\n",
    "    for i in 2 .. 5 {\n",
    "        VerifySingleOutputFunction(i, Task1, Is03ModFour);\n",
    "    }\n",
    "    Message(\"Success!\");\n",
    "}\n"
   ]
  },
  {
   "cell_type": "code",
   "execution_count": 3,
   "metadata": {
    "tags": [
     "multicell_solution"
    ]
   },
   "outputs": [
    {
     "name": "stdout",
     "output_type": "stream",
     "text": [
      "Success!\r\n"
     ]
    },
    {
     "data": {
      "application/x-qsharp-data": "{\"@type\":\"tuple\"}",
      "text/plain": [
       "()"
      ]
     },
     "execution_count": 3,
     "metadata": {},
     "output_type": "execute_result"
    }
   ],
   "source": [
    "%toffoli TestIs03ModFour"
   ]
  },
  {
   "cell_type": "code",
   "execution_count": null,
   "metadata": {},
   "outputs": [],
   "source": []
  }
 ],
 "metadata": {
  "kernelspec": {
   "display_name": "Q#",
   "language": "qsharp",
   "name": "iqsharp"
  },
  "language_info": {
   "file_extension": ".qs",
   "mimetype": "text/x-qsharp",
   "name": "qsharp",
   "version": "0.14"
  }
 },
 "nbformat": 4,
 "nbformat_minor": 4
}
